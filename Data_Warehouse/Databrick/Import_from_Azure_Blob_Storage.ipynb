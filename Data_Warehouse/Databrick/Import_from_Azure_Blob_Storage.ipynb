{
 "cells": [
  {
   "cell_type": "markdown",
   "metadata": {
    "application/vnd.databricks.v1+cell": {
     "cellMetadata": {},
     "inputWidgets": {},
     "nuid": "96816ed7-b08a-4ca3-abb9-f99880c3535d",
     "showTitle": false,
     "title": ""
    },
    "jupyter": {
     "outputs_hidden": true
    }
   },
   "source": [
    "\n",
    "This notebook shows you how to create and query a table or DataFrame loaded from data stored in Azure Blob storage."
   ]
  },
  {
   "cell_type": "markdown",
   "metadata": {
    "application/vnd.databricks.v1+cell": {
     "cellMetadata": {},
     "inputWidgets": {},
     "nuid": "84d079e4-93e8-460d-9d95-54a3fa326ca1",
     "showTitle": false,
     "title": ""
    }
   },
   "source": [
    "### Step 1: Set the data location and type"
   ]
  },
  {
   "cell_type": "code",
   "execution_count": 0,
   "metadata": {
    "application/vnd.databricks.v1+cell": {
     "cellMetadata": {
      "byteLimit": 2048000,
      "rowLimit": 10000
     },
     "inputWidgets": {},
     "nuid": "c760fc54-dbf0-4715-8df6-8fdff699c029",
     "showTitle": false,
     "title": ""
    }
   },
   "outputs": [],
   "source": [
    "storage_account_name = \"catascevasticasa\"\n",
    "storage_account_access_key = \"***\""
   ]
  },
  {
   "cell_type": "code",
   "execution_count": 0,
   "metadata": {
    "application/vnd.databricks.v1+cell": {
     "cellMetadata": {
      "byteLimit": 2048000,
      "rowLimit": 10000
     },
     "inputWidgets": {},
     "nuid": "6482be4c-f067-47c9-b0ac-35c938b94601",
     "showTitle": false,
     "title": ""
    }
   },
   "outputs": [],
   "source": [
    "\n",
    "dim_customers_file_location = \"wasbs://catascevasticadw@catascevasticasa.blob.core.windows.net/Customers\"\n",
    "dim_dates_file_location = \"wasbs://catascevasticadw@catascevasticasa.blob.core.windows.net/Dates\"\n",
    "dim_delivery_file_location = \"wasbs://catascevasticadw@catascevasticasa.blob.core.windows.net/Delivery\"\n",
    "dim_production_file_location = \"wasbs://catascevasticadw@catascevasticasa.blob.core.windows.net/Production\"\n",
    "dim_products_file_location = \"wasbs://catascevasticadw@catascevasticasa.blob.core.windows.net/Products\"\n",
    "dim_sales_file_location = \"wasbs://catascevasticadw@catascevasticasa.blob.core.windows.net/Sales\"\n",
    "dim_supplier_file_location = \"wasbs://catascevasticadw@catascevasticasa.blob.core.windows.net/Supplier\"\n",
    "file_type = \"csv\""
   ]
  },
  {
   "cell_type": "markdown",
   "metadata": {
    "application/vnd.databricks.v1+cell": {
     "cellMetadata": {},
     "inputWidgets": {},
     "nuid": "7bac1e63-88d6-4682-9163-583dc13f7b87",
     "showTitle": false,
     "title": ""
    }
   },
   "source": [
    "###Step 2: Set Spark configuration for accessing Azure Blob Storage."
   ]
  },
  {
   "cell_type": "code",
   "execution_count": 0,
   "metadata": {
    "application/vnd.databricks.v1+cell": {
     "cellMetadata": {
      "byteLimit": 2048000,
      "rowLimit": 10000
     },
     "inputWidgets": {},
     "nuid": "8acc0dda-69e3-4817-bf5d-450562afe113",
     "showTitle": false,
     "title": ""
    }
   },
   "outputs": [],
   "source": [
    "spark.conf.set(\n",
    "  \"fs.azure.account.key.\"+storage_account_name+\".blob.core.windows.net\",\n",
    "  storage_account_access_key)"
   ]
  },
  {
   "cell_type": "markdown",
   "metadata": {
    "application/vnd.databricks.v1+cell": {
     "cellMetadata": {},
     "inputWidgets": {},
     "nuid": "51114086-25f5-4c9c-8bb3-64ff28b0f0f4",
     "showTitle": false,
     "title": ""
    }
   },
   "source": [
    "\n",
    "### Step 2: Read the data\n",
    "Read the data from the Azure Blob Storage locations and load them into Spark DataFrames.\n",
    "- *option(\"inferSchema\", \"thue\")* : Automatically infer the data types of each column by inspecting the data.\n",
    "You can also explicitly set this to a particular schema if you have one already."
   ]
  },
  {
   "cell_type": "code",
   "execution_count": 0,
   "metadata": {
    "application/vnd.databricks.v1+cell": {
     "cellMetadata": {
      "byteLimit": 2048000,
      "rowLimit": 10000
     },
     "inputWidgets": {},
     "nuid": "f6366891-7da1-478e-8094-4291f4fca976",
     "showTitle": false,
     "title": ""
    }
   },
   "outputs": [],
   "source": [
    "customers = spark.read.format(file_type).option(\"header\", \"true\").option(\"inferSchema\", \"true\").load(dim_customers_file_location)\n",
    "dates = spark.read.format(file_type).option(\"header\", \"true\").option(\"inferSchema\", \"true\").load(dim_dates_file_location)\n",
    "delivery = spark.read.format(file_type).option(\"header\", \"true\").option(\"inferSchema\", \"true\").load(dim_delivery_file_location)\n",
    "production = spark.read.format(file_type).option(\"header\", \"true\").option(\"inferSchema\", \"true\").load(dim_production_file_location)\n",
    "products = spark.read.format(file_type).option(\"header\", \"true\").option(\"inferSchema\", \"true\").load(dim_products_file_location)\n",
    "sales = spark.read.format(file_type).option(\"header\", \"true\").option(\"inferSchema\", \"true\").load(dim_sales_file_location)\n",
    "suppliers = spark.read.format(file_type).option(\"header\", \"true\").option(\"inferSchema\", \"true\").load(dim_supplier_file_location)"
   ]
  },
  {
   "cell_type": "markdown",
   "metadata": {
    "application/vnd.databricks.v1+cell": {
     "cellMetadata": {},
     "inputWidgets": {},
     "nuid": "92108b48-e8f5-4d0d-9d24-3775b36ca207",
     "showTitle": false,
     "title": ""
    }
   },
   "source": [
    "\n",
    "### Step 3: Display the data"
   ]
  },
  {
   "cell_type": "code",
   "execution_count": 0,
   "metadata": {
    "application/vnd.databricks.v1+cell": {
     "cellMetadata": {
      "byteLimit": 2048000,
      "rowLimit": 10000
     },
     "inputWidgets": {},
     "nuid": "abf0481a-c3bb-4698-a85a-bf9eda6d8050",
     "showTitle": false,
     "title": ""
    }
   },
   "outputs": [
    {
     "output_type": "display_data",
     "data": {
      "text/html": [
       "<style scoped>\n",
       "  .table-result-container {\n",
       "    max-height: 300px;\n",
       "    overflow: auto;\n",
       "  }\n",
       "  table, th, td {\n",
       "    border: 1px solid black;\n",
       "    border-collapse: collapse;\n",
       "  }\n",
       "  th, td {\n",
       "    padding: 5px;\n",
       "  }\n",
       "  th {\n",
       "    text-align: left;\n",
       "  }\n",
       "</style><div class='table-result-container'><table class='table-result'><thead style='background-color: white'><tr><th>CustomerKey</th><th>CustomerID</th><th>ContactName</th><th>CustomerPhone</th><th>CustomerEmail</th><th>CustomerCity</th><th>CustomerStreet</th><th>CustomerNumber</th><th>Version</th><th>RowIsCurrent</th><th>RowStartDate</th><th>RowEndDate</th><th>RowChangeReason</th></tr></thead><tbody><tr><td>1</td><td>1</td><td>Matthew Davis</td><td>001-405-325-7908x1053</td><td>matthew.davis@example.com</td><td>Tokyo</td><td>Ramirez Ports</td><td>718</td><td>2556</td><td>true</td><td>2024-06-18T11:29:04.581235Z</td><td>9999-12-31T00:00:00Z</td><td>null</td></tr><tr><td>2</td><td>2</td><td>Anna Jackson</td><td>804-299-4028x7563</td><td>anna.jackson@example.com</td><td>Berlin</td><td>Ross Wells</td><td>9665</td><td>2557</td><td>true</td><td>2024-06-18T11:29:04.581235Z</td><td>9999-12-31T00:00:00Z</td><td>null</td></tr><tr><td>3</td><td>3</td><td>William Cruz</td><td>497-566-5636</td><td>william.cruz@example.com</td><td>Melbourne</td><td>Espinoza Hollow</td><td>739</td><td>2558</td><td>true</td><td>2024-06-18T11:29:04.581235Z</td><td>9999-12-31T00:00:00Z</td><td>null</td></tr><tr><td>4</td><td>4</td><td>Angela Jenkins</td><td>+1-205-918-9903x341</td><td>angela.jenkins@example.com</td><td>New York</td><td>Joshua Knoll</td><td>339</td><td>2559</td><td>true</td><td>2024-06-18T11:29:04.581235Z</td><td>9999-12-31T00:00:00Z</td><td>null</td></tr><tr><td>5</td><td>5</td><td>Jamie Gonzalez</td><td>001-374-507-3167x3360</td><td>jamie.gonzalez@example.com</td><td>Havana</td><td>Escobar Avenue</td><td>63176</td><td>2561</td><td>true</td><td>2024-06-18T11:29:04.581235Z</td><td>9999-12-31T00:00:00Z</td><td>null</td></tr></tbody></table></div>"
      ]
     },
     "metadata": {
      "application/vnd.databricks.v1+output": {
       "addedWidgets": {},
       "aggData": [],
       "aggError": "",
       "aggOverflow": false,
       "aggSchema": [],
       "aggSeriesLimitReached": false,
       "aggType": "",
       "arguments": {},
       "columnCustomDisplayInfos": {},
       "data": [
        [
         1,
         1,
         "Matthew Davis",
         "001-405-325-7908x1053",
         "matthew.davis@example.com",
         "Tokyo",
         "Ramirez Ports",
         718,
         2556,
         true,
         "2024-06-18T11:29:04.581235Z",
         "9999-12-31T00:00:00Z",
         null
        ],
        [
         2,
         2,
         "Anna Jackson",
         "804-299-4028x7563",
         "anna.jackson@example.com",
         "Berlin",
         "Ross Wells",
         9665,
         2557,
         true,
         "2024-06-18T11:29:04.581235Z",
         "9999-12-31T00:00:00Z",
         null
        ],
        [
         3,
         3,
         "William Cruz",
         "497-566-5636",
         "william.cruz@example.com",
         "Melbourne",
         "Espinoza Hollow",
         739,
         2558,
         true,
         "2024-06-18T11:29:04.581235Z",
         "9999-12-31T00:00:00Z",
         null
        ],
        [
         4,
         4,
         "Angela Jenkins",
         "+1-205-918-9903x341",
         "angela.jenkins@example.com",
         "New York",
         "Joshua Knoll",
         339,
         2559,
         true,
         "2024-06-18T11:29:04.581235Z",
         "9999-12-31T00:00:00Z",
         null
        ],
        [
         5,
         5,
         "Jamie Gonzalez",
         "001-374-507-3167x3360",
         "jamie.gonzalez@example.com",
         "Havana",
         "Escobar Avenue",
         63176,
         2561,
         true,
         "2024-06-18T11:29:04.581235Z",
         "9999-12-31T00:00:00Z",
         null
        ]
       ],
       "datasetInfos": [],
       "dbfsResultPath": null,
       "isJsonSchema": true,
       "metadata": {},
       "overflow": false,
       "plotOptions": {
        "customPlotOptions": {},
        "displayType": "table",
        "pivotAggregation": null,
        "pivotColumns": null,
        "xColumns": null,
        "yColumns": null
       },
       "removedWidgets": [],
       "schema": [
        {
         "metadata": "{}",
         "name": "CustomerKey",
         "type": "\"integer\""
        },
        {
         "metadata": "{}",
         "name": "CustomerID",
         "type": "\"integer\""
        },
        {
         "metadata": "{}",
         "name": "ContactName",
         "type": "\"string\""
        },
        {
         "metadata": "{}",
         "name": "CustomerPhone",
         "type": "\"string\""
        },
        {
         "metadata": "{}",
         "name": "CustomerEmail",
         "type": "\"string\""
        },
        {
         "metadata": "{}",
         "name": "CustomerCity",
         "type": "\"string\""
        },
        {
         "metadata": "{}",
         "name": "CustomerStreet",
         "type": "\"string\""
        },
        {
         "metadata": "{}",
         "name": "CustomerNumber",
         "type": "\"integer\""
        },
        {
         "metadata": "{}",
         "name": "Version",
         "type": "\"integer\""
        },
        {
         "metadata": "{}",
         "name": "RowIsCurrent",
         "type": "\"boolean\""
        },
        {
         "metadata": "{}",
         "name": "RowStartDate",
         "type": "\"timestamp\""
        },
        {
         "metadata": "{}",
         "name": "RowEndDate",
         "type": "\"timestamp\""
        },
        {
         "metadata": "{}",
         "name": "RowChangeReason",
         "type": "\"string\""
        }
       ],
       "type": "table"
      }
     },
     "output_type": "display_data"
    },
    {
     "output_type": "display_data",
     "data": {
      "text/html": [
       "<style scoped>\n",
       "  .table-result-container {\n",
       "    max-height: 300px;\n",
       "    overflow: auto;\n",
       "  }\n",
       "  table, th, td {\n",
       "    border: 1px solid black;\n",
       "    border-collapse: collapse;\n",
       "  }\n",
       "  th, td {\n",
       "    padding: 5px;\n",
       "  }\n",
       "  th {\n",
       "    text-align: left;\n",
       "  }\n",
       "</style><div class='table-result-container'><table class='table-result'><thead style='background-color: white'><tr><th>DateKey</th><th>Date</th><th>FullDateUK</th><th>FullDateUSA</th><th>DayOfMonth</th><th>DaySuffix</th><th>DayName</th><th>DayOfWeekUSA</th><th>DayOfWeekUK</th><th>DayOfWeekInMonth</th><th>DayOfWeekInYear</th><th>DayOfQuarter</th><th>DayOfYear</th><th>WeekOfMonth</th><th>WeekOfQuarter</th><th>WeekOfYear</th><th>Month</th><th>MonthName</th><th>MonthOfQuarter</th><th>Quarter</th><th>QuarterName</th><th>Year</th><th>YearName</th><th>MonthYear</th><th>MMYYYY</th><th>FirstDayOfMonth</th><th>LastDayOfMonth</th><th>FirstDayOfQuarter</th><th>LastDayOfQuarter</th><th>FirstDayOfYear</th><th>LastDayOfYear</th><th>IsHolidayUSA</th><th>IsWeekday</th><th>HolidayUSA</th><th>IsHolidayUK</th><th>HolidayUK</th></tr></thead><tbody><tr><td>20230101</td><td>2023-01-01T00:00:00Z</td><td>2023-01-01</td><td>2023-01-01</td><td>1</td><td>1st</td><td>Sunday</td><td>1</td><td>7</td><td>1</td><td>1</td><td>1</td><td>1</td><td>1</td><td>1</td><td>1</td><td>1</td><td>January</td><td>1</td><td>1</td><td>First</td><td>2023</td><td>CY 2023</td><td>Jan-2023  </td><td>12023</td><td>2023-01-01</td><td>2023-01-31</td><td>2023-01-01</td><td>2023-03-31</td><td>2023-01-01</td><td>2023-12-31</td><td>true</td><td>false</td><td>New Year's Day</td><td>true</td><td>New Year's Day</td></tr><tr><td>20230102</td><td>2023-01-02T00:00:00Z</td><td>2023-01-02</td><td>2023-01-02</td><td>2</td><td>2nd</td><td>Monday</td><td>2</td><td>1</td><td>1</td><td>1</td><td>1</td><td>2</td><td>1</td><td>1</td><td>1</td><td>1</td><td>January</td><td>1</td><td>1</td><td>First</td><td>2023</td><td>CY 2023</td><td>Jan-2023  </td><td>12023</td><td>2023-01-01</td><td>2023-01-31</td><td>2023-01-01</td><td>2023-03-31</td><td>2023-01-01</td><td>2023-12-31</td><td>false</td><td>true</td><td>null</td><td>false</td><td>null</td></tr><tr><td>20230103</td><td>2023-01-03T00:00:00Z</td><td>2023-01-03</td><td>2023-01-03</td><td>3</td><td>3rd</td><td>Tuesday</td><td>3</td><td>2</td><td>1</td><td>1</td><td>1</td><td>3</td><td>1</td><td>1</td><td>1</td><td>1</td><td>January</td><td>1</td><td>1</td><td>First</td><td>2023</td><td>CY 2023</td><td>Jan-2023  </td><td>12023</td><td>2023-01-01</td><td>2023-01-31</td><td>2023-01-01</td><td>2023-03-31</td><td>2023-01-01</td><td>2023-12-31</td><td>false</td><td>true</td><td>null</td><td>false</td><td>null</td></tr><tr><td>20230104</td><td>2023-01-04T00:00:00Z</td><td>2023-01-04</td><td>2023-01-04</td><td>4</td><td>4th</td><td>Wednesday</td><td>4</td><td>3</td><td>1</td><td>1</td><td>1</td><td>4</td><td>1</td><td>1</td><td>1</td><td>1</td><td>January</td><td>1</td><td>1</td><td>First</td><td>2023</td><td>CY 2023</td><td>Jan-2023  </td><td>12023</td><td>2023-01-01</td><td>2023-01-31</td><td>2023-01-01</td><td>2023-03-31</td><td>2023-01-01</td><td>2023-12-31</td><td>false</td><td>true</td><td>null</td><td>false</td><td>null</td></tr><tr><td>20230105</td><td>2023-01-05T00:00:00Z</td><td>2023-01-05</td><td>2023-01-05</td><td>5</td><td>5th</td><td>Thursday</td><td>5</td><td>4</td><td>1</td><td>1</td><td>1</td><td>5</td><td>1</td><td>1</td><td>1</td><td>1</td><td>January</td><td>1</td><td>1</td><td>First</td><td>2023</td><td>CY 2023</td><td>Jan-2023  </td><td>12023</td><td>2023-01-01</td><td>2023-01-31</td><td>2023-01-01</td><td>2023-03-31</td><td>2023-01-01</td><td>2023-12-31</td><td>false</td><td>true</td><td>null</td><td>false</td><td>null</td></tr></tbody></table></div>"
      ]
     },
     "metadata": {
      "application/vnd.databricks.v1+output": {
       "addedWidgets": {},
       "aggData": [],
       "aggError": "",
       "aggOverflow": false,
       "aggSchema": [],
       "aggSeriesLimitReached": false,
       "aggType": "",
       "arguments": {},
       "columnCustomDisplayInfos": {},
       "data": [
        [
         20230101,
         "2023-01-01T00:00:00Z",
         "2023-01-01",
         "2023-01-01",
         1,
         "1st",
         "Sunday",
         1,
         7,
         1,
         1,
         1,
         1,
         1,
         1,
         1,
         1,
         "January",
         1,
         1,
         "First",
         2023,
         "CY 2023",
         "Jan-2023  ",
         12023,
         "2023-01-01",
         "2023-01-31",
         "2023-01-01",
         "2023-03-31",
         "2023-01-01",
         "2023-12-31",
         true,
         false,
         "New Year's Day",
         true,
         "New Year's Day"
        ],
        [
         20230102,
         "2023-01-02T00:00:00Z",
         "2023-01-02",
         "2023-01-02",
         2,
         "2nd",
         "Monday",
         2,
         1,
         1,
         1,
         1,
         2,
         1,
         1,
         1,
         1,
         "January",
         1,
         1,
         "First",
         2023,
         "CY 2023",
         "Jan-2023  ",
         12023,
         "2023-01-01",
         "2023-01-31",
         "2023-01-01",
         "2023-03-31",
         "2023-01-01",
         "2023-12-31",
         false,
         true,
         null,
         false,
         null
        ],
        [
         20230103,
         "2023-01-03T00:00:00Z",
         "2023-01-03",
         "2023-01-03",
         3,
         "3rd",
         "Tuesday",
         3,
         2,
         1,
         1,
         1,
         3,
         1,
         1,
         1,
         1,
         "January",
         1,
         1,
         "First",
         2023,
         "CY 2023",
         "Jan-2023  ",
         12023,
         "2023-01-01",
         "2023-01-31",
         "2023-01-01",
         "2023-03-31",
         "2023-01-01",
         "2023-12-31",
         false,
         true,
         null,
         false,
         null
        ],
        [
         20230104,
         "2023-01-04T00:00:00Z",
         "2023-01-04",
         "2023-01-04",
         4,
         "4th",
         "Wednesday",
         4,
         3,
         1,
         1,
         1,
         4,
         1,
         1,
         1,
         1,
         "January",
         1,
         1,
         "First",
         2023,
         "CY 2023",
         "Jan-2023  ",
         12023,
         "2023-01-01",
         "2023-01-31",
         "2023-01-01",
         "2023-03-31",
         "2023-01-01",
         "2023-12-31",
         false,
         true,
         null,
         false,
         null
        ],
        [
         20230105,
         "2023-01-05T00:00:00Z",
         "2023-01-05",
         "2023-01-05",
         5,
         "5th",
         "Thursday",
         5,
         4,
         1,
         1,
         1,
         5,
         1,
         1,
         1,
         1,
         "January",
         1,
         1,
         "First",
         2023,
         "CY 2023",
         "Jan-2023  ",
         12023,
         "2023-01-01",
         "2023-01-31",
         "2023-01-01",
         "2023-03-31",
         "2023-01-01",
         "2023-12-31",
         false,
         true,
         null,
         false,
         null
        ]
       ],
       "datasetInfos": [],
       "dbfsResultPath": null,
       "isJsonSchema": true,
       "metadata": {},
       "overflow": false,
       "plotOptions": {
        "customPlotOptions": {},
        "displayType": "table",
        "pivotAggregation": null,
        "pivotColumns": null,
        "xColumns": null,
        "yColumns": null
       },
       "removedWidgets": [],
       "schema": [
        {
         "metadata": "{}",
         "name": "DateKey",
         "type": "\"integer\""
        },
        {
         "metadata": "{}",
         "name": "Date",
         "type": "\"timestamp\""
        },
        {
         "metadata": "{\"__detected_date_formats\":\"d/M/yyyy\"}",
         "name": "FullDateUK",
         "type": "\"date\""
        },
        {
         "metadata": "{\"__detected_date_formats\":\"M/d/yyyy\"}",
         "name": "FullDateUSA",
         "type": "\"date\""
        },
        {
         "metadata": "{}",
         "name": "DayOfMonth",
         "type": "\"integer\""
        },
        {
         "metadata": "{}",
         "name": "DaySuffix",
         "type": "\"string\""
        },
        {
         "metadata": "{}",
         "name": "DayName",
         "type": "\"string\""
        },
        {
         "metadata": "{}",
         "name": "DayOfWeekUSA",
         "type": "\"integer\""
        },
        {
         "metadata": "{}",
         "name": "DayOfWeekUK",
         "type": "\"integer\""
        },
        {
         "metadata": "{}",
         "name": "DayOfWeekInMonth",
         "type": "\"integer\""
        },
        {
         "metadata": "{}",
         "name": "DayOfWeekInYear",
         "type": "\"integer\""
        },
        {
         "metadata": "{}",
         "name": "DayOfQuarter",
         "type": "\"integer\""
        },
        {
         "metadata": "{}",
         "name": "DayOfYear",
         "type": "\"integer\""
        },
        {
         "metadata": "{}",
         "name": "WeekOfMonth",
         "type": "\"integer\""
        },
        {
         "metadata": "{}",
         "name": "WeekOfQuarter",
         "type": "\"integer\""
        },
        {
         "metadata": "{}",
         "name": "WeekOfYear",
         "type": "\"integer\""
        },
        {
         "metadata": "{}",
         "name": "Month",
         "type": "\"integer\""
        },
        {
         "metadata": "{}",
         "name": "MonthName",
         "type": "\"string\""
        },
        {
         "metadata": "{}",
         "name": "MonthOfQuarter",
         "type": "\"integer\""
        },
        {
         "metadata": "{}",
         "name": "Quarter",
         "type": "\"integer\""
        },
        {
         "metadata": "{}",
         "name": "QuarterName",
         "type": "\"string\""
        },
        {
         "metadata": "{}",
         "name": "Year",
         "type": "\"integer\""
        },
        {
         "metadata": "{}",
         "name": "YearName",
         "type": "\"string\""
        },
        {
         "metadata": "{}",
         "name": "MonthYear",
         "type": "\"string\""
        },
        {
         "metadata": "{}",
         "name": "MMYYYY",
         "type": "\"integer\""
        },
        {
         "metadata": "{\"__detected_date_formats\":\"yyyy-M-d\"}",
         "name": "FirstDayOfMonth",
         "type": "\"date\""
        },
        {
         "metadata": "{\"__detected_date_formats\":\"yyyy-M-d\"}",
         "name": "LastDayOfMonth",
         "type": "\"date\""
        },
        {
         "metadata": "{\"__detected_date_formats\":\"yyyy-M-d\"}",
         "name": "FirstDayOfQuarter",
         "type": "\"date\""
        },
        {
         "metadata": "{\"__detected_date_formats\":\"yyyy-M-d\"}",
         "name": "LastDayOfQuarter",
         "type": "\"date\""
        },
        {
         "metadata": "{\"__detected_date_formats\":\"yyyy-M-d\"}",
         "name": "FirstDayOfYear",
         "type": "\"date\""
        },
        {
         "metadata": "{\"__detected_date_formats\":\"yyyy-M-d\"}",
         "name": "LastDayOfYear",
         "type": "\"date\""
        },
        {
         "metadata": "{}",
         "name": "IsHolidayUSA",
         "type": "\"boolean\""
        },
        {
         "metadata": "{}",
         "name": "IsWeekday",
         "type": "\"boolean\""
        },
        {
         "metadata": "{}",
         "name": "HolidayUSA",
         "type": "\"string\""
        },
        {
         "metadata": "{}",
         "name": "IsHolidayUK",
         "type": "\"boolean\""
        },
        {
         "metadata": "{}",
         "name": "HolidayUK",
         "type": "\"string\""
        }
       ],
       "type": "table"
      }
     },
     "output_type": "display_data"
    },
    {
     "output_type": "display_data",
     "data": {
      "text/html": [
       "<style scoped>\n",
       "  .table-result-container {\n",
       "    max-height: 300px;\n",
       "    overflow: auto;\n",
       "  }\n",
       "  table, th, td {\n",
       "    border: 1px solid black;\n",
       "    border-collapse: collapse;\n",
       "  }\n",
       "  th, td {\n",
       "    padding: 5px;\n",
       "  }\n",
       "  th {\n",
       "    text-align: left;\n",
       "  }\n",
       "</style><div class='table-result-container'><table class='table-result'><thead style='background-color: white'><tr><th>DeliveryKey</th><th>DeliveryID</th><th>DeliveryStartDate</th><th>DeliveryEndDate</th><th>DeliveryStatus</th><th>Logistics_Partner_ID</th><th>Logistics_Partner_Name</th><th>Team_Member_ID</th><th>Version</th><th>OrderID</th><th>RowIsCurrent</th><th>RowStartDate</th><th>RowEndDate</th><th>RowChangeReason</th></tr></thead><tbody><tr><td>1</td><td>1</td><td>2024-12-26T00:00:00Z</td><td>null</td><td>In Delivery</td><td>7</td><td>Kathryn Dennis</td><td>5</td><td>2762</td><td>1</td><td>true</td><td>2024-06-18T11:29:12.592302Z</td><td>9999-12-31T00:00:00Z</td><td>null</td></tr><tr><td>2</td><td>2</td><td>2024-12-05T00:00:00Z</td><td>null</td><td>In Process</td><td>7</td><td>Kathryn Dennis</td><td>11</td><td>2763</td><td>3</td><td>true</td><td>2024-06-18T11:29:12.592302Z</td><td>9999-12-31T00:00:00Z</td><td>null</td></tr><tr><td>3</td><td>3</td><td>2024-12-08T00:00:00Z</td><td>null</td><td>In Delivery</td><td>11</td><td>Tina Alvarez</td><td>5</td><td>2764</td><td>4</td><td>true</td><td>2024-06-18T11:29:12.592302Z</td><td>9999-12-31T00:00:00Z</td><td>null</td></tr><tr><td>4</td><td>4</td><td>2024-07-25T00:00:00Z</td><td>2024-07-30T00:00:00Z</td><td>Complete</td><td>7</td><td>Kathryn Dennis</td><td>16</td><td>2765</td><td>5</td><td>true</td><td>2024-06-18T11:29:12.592302Z</td><td>9999-12-31T00:00:00Z</td><td>null</td></tr><tr><td>5</td><td>5</td><td>2024-02-18T00:00:00Z</td><td>2024-03-05T00:00:00Z</td><td>Complete</td><td>15</td><td>Anna Obrien</td><td>21</td><td>2766</td><td>8</td><td>true</td><td>2024-06-18T11:29:12.592302Z</td><td>9999-12-31T00:00:00Z</td><td>null</td></tr></tbody></table></div>"
      ]
     },
     "metadata": {
      "application/vnd.databricks.v1+output": {
       "addedWidgets": {},
       "aggData": [],
       "aggError": "",
       "aggOverflow": false,
       "aggSchema": [],
       "aggSeriesLimitReached": false,
       "aggType": "",
       "arguments": {},
       "columnCustomDisplayInfos": {},
       "data": [
        [
         1,
         1,
         "2024-12-26T00:00:00Z",
         null,
         "In Delivery",
         7,
         "Kathryn Dennis",
         5,
         2762,
         1,
         true,
         "2024-06-18T11:29:12.592302Z",
         "9999-12-31T00:00:00Z",
         null
        ],
        [
         2,
         2,
         "2024-12-05T00:00:00Z",
         null,
         "In Process",
         7,
         "Kathryn Dennis",
         11,
         2763,
         3,
         true,
         "2024-06-18T11:29:12.592302Z",
         "9999-12-31T00:00:00Z",
         null
        ],
        [
         3,
         3,
         "2024-12-08T00:00:00Z",
         null,
         "In Delivery",
         11,
         "Tina Alvarez",
         5,
         2764,
         4,
         true,
         "2024-06-18T11:29:12.592302Z",
         "9999-12-31T00:00:00Z",
         null
        ],
        [
         4,
         4,
         "2024-07-25T00:00:00Z",
         "2024-07-30T00:00:00Z",
         "Complete",
         7,
         "Kathryn Dennis",
         16,
         2765,
         5,
         true,
         "2024-06-18T11:29:12.592302Z",
         "9999-12-31T00:00:00Z",
         null
        ],
        [
         5,
         5,
         "2024-02-18T00:00:00Z",
         "2024-03-05T00:00:00Z",
         "Complete",
         15,
         "Anna Obrien",
         21,
         2766,
         8,
         true,
         "2024-06-18T11:29:12.592302Z",
         "9999-12-31T00:00:00Z",
         null
        ]
       ],
       "datasetInfos": [],
       "dbfsResultPath": null,
       "isJsonSchema": true,
       "metadata": {},
       "overflow": false,
       "plotOptions": {
        "customPlotOptions": {},
        "displayType": "table",
        "pivotAggregation": null,
        "pivotColumns": null,
        "xColumns": null,
        "yColumns": null
       },
       "removedWidgets": [],
       "schema": [
        {
         "metadata": "{}",
         "name": "DeliveryKey",
         "type": "\"integer\""
        },
        {
         "metadata": "{}",
         "name": "DeliveryID",
         "type": "\"integer\""
        },
        {
         "metadata": "{}",
         "name": "DeliveryStartDate",
         "type": "\"timestamp\""
        },
        {
         "metadata": "{}",
         "name": "DeliveryEndDate",
         "type": "\"timestamp\""
        },
        {
         "metadata": "{}",
         "name": "DeliveryStatus",
         "type": "\"string\""
        },
        {
         "metadata": "{}",
         "name": "Logistics_Partner_ID",
         "type": "\"integer\""
        },
        {
         "metadata": "{}",
         "name": "Logistics_Partner_Name",
         "type": "\"string\""
        },
        {
         "metadata": "{}",
         "name": "Team_Member_ID",
         "type": "\"integer\""
        },
        {
         "metadata": "{}",
         "name": "Version",
         "type": "\"integer\""
        },
        {
         "metadata": "{}",
         "name": "OrderID",
         "type": "\"integer\""
        },
        {
         "metadata": "{}",
         "name": "RowIsCurrent",
         "type": "\"boolean\""
        },
        {
         "metadata": "{}",
         "name": "RowStartDate",
         "type": "\"timestamp\""
        },
        {
         "metadata": "{}",
         "name": "RowEndDate",
         "type": "\"timestamp\""
        },
        {
         "metadata": "{}",
         "name": "RowChangeReason",
         "type": "\"string\""
        }
       ],
       "type": "table"
      }
     },
     "output_type": "display_data"
    },
    {
     "output_type": "display_data",
     "data": {
      "text/html": [
       "<style scoped>\n",
       "  .table-result-container {\n",
       "    max-height: 300px;\n",
       "    overflow: auto;\n",
       "  }\n",
       "  table, th, td {\n",
       "    border: 1px solid black;\n",
       "    border-collapse: collapse;\n",
       "  }\n",
       "  th, td {\n",
       "    padding: 5px;\n",
       "  }\n",
       "  th {\n",
       "    text-align: left;\n",
       "  }\n",
       "</style><div class='table-result-container'><table class='table-result'><thead style='background-color: white'><tr><th>ProductKey</th><th>SupplierKey</th><th>OrderDateKey</th><th>OrderID</th><th>Production_ID</th><th>ProductionStatus</th><th>CostPerUnit</th><th>PricePerUnit</th><th>Quantity</th><th>Team_Member_ID</th><th>Product_ID</th><th>ProductName</th><th>Version</th></tr></thead><tbody><tr><td>1</td><td>24</td><td>20230228</td><td>1491</td><td>1462</td><td>In Delivery</td><td>20.19</td><td>25.61</td><td>694</td><td>31</td><td>1</td><td>Cellulose Blown-In Insulation</td><td>7241</td></tr><tr><td>1</td><td>24</td><td>20230228</td><td>1491</td><td>981</td><td>Cancelled</td><td>20.19</td><td>25.61</td><td>694</td><td>39</td><td>1</td><td>Cellulose Blown-In Insulation</td><td>6758</td></tr><tr><td>1</td><td>24</td><td>20230228</td><td>1491</td><td>1455</td><td>In Process</td><td>20.19</td><td>25.61</td><td>694</td><td>29</td><td>1</td><td>Cellulose Blown-In Insulation</td><td>7234</td></tr><tr><td>1</td><td>2</td><td>20230228</td><td>1491</td><td>1462</td><td>In Delivery</td><td>20.19</td><td>25.61</td><td>694</td><td>31</td><td>1</td><td>Cellulose Blown-In Insulation</td><td>7241</td></tr><tr><td>1</td><td>2</td><td>20230228</td><td>1491</td><td>981</td><td>Cancelled</td><td>20.19</td><td>25.61</td><td>694</td><td>39</td><td>1</td><td>Cellulose Blown-In Insulation</td><td>6758</td></tr></tbody></table></div>"
      ]
     },
     "metadata": {
      "application/vnd.databricks.v1+output": {
       "addedWidgets": {},
       "aggData": [],
       "aggError": "",
       "aggOverflow": false,
       "aggSchema": [],
       "aggSeriesLimitReached": false,
       "aggType": "",
       "arguments": {},
       "columnCustomDisplayInfos": {},
       "data": [
        [
         1,
         24,
         20230228,
         1491,
         1462,
         "In Delivery",
         20.19,
         25.61,
         694,
         31,
         1,
         "Cellulose Blown-In Insulation",
         7241
        ],
        [
         1,
         24,
         20230228,
         1491,
         981,
         "Cancelled",
         20.19,
         25.61,
         694,
         39,
         1,
         "Cellulose Blown-In Insulation",
         6758
        ],
        [
         1,
         24,
         20230228,
         1491,
         1455,
         "In Process",
         20.19,
         25.61,
         694,
         29,
         1,
         "Cellulose Blown-In Insulation",
         7234
        ],
        [
         1,
         2,
         20230228,
         1491,
         1462,
         "In Delivery",
         20.19,
         25.61,
         694,
         31,
         1,
         "Cellulose Blown-In Insulation",
         7241
        ],
        [
         1,
         2,
         20230228,
         1491,
         981,
         "Cancelled",
         20.19,
         25.61,
         694,
         39,
         1,
         "Cellulose Blown-In Insulation",
         6758
        ]
       ],
       "datasetInfos": [],
       "dbfsResultPath": null,
       "isJsonSchema": true,
       "metadata": {},
       "overflow": false,
       "plotOptions": {
        "customPlotOptions": {},
        "displayType": "table",
        "pivotAggregation": null,
        "pivotColumns": null,
        "xColumns": null,
        "yColumns": null
       },
       "removedWidgets": [],
       "schema": [
        {
         "metadata": "{}",
         "name": "ProductKey",
         "type": "\"integer\""
        },
        {
         "metadata": "{}",
         "name": "SupplierKey",
         "type": "\"integer\""
        },
        {
         "metadata": "{}",
         "name": "OrderDateKey",
         "type": "\"integer\""
        },
        {
         "metadata": "{}",
         "name": "OrderID",
         "type": "\"integer\""
        },
        {
         "metadata": "{}",
         "name": "Production_ID",
         "type": "\"integer\""
        },
        {
         "metadata": "{}",
         "name": "ProductionStatus",
         "type": "\"string\""
        },
        {
         "metadata": "{}",
         "name": "CostPerUnit",
         "type": "\"double\""
        },
        {
         "metadata": "{}",
         "name": "PricePerUnit",
         "type": "\"double\""
        },
        {
         "metadata": "{}",
         "name": "Quantity",
         "type": "\"integer\""
        },
        {
         "metadata": "{}",
         "name": "Team_Member_ID",
         "type": "\"integer\""
        },
        {
         "metadata": "{}",
         "name": "Product_ID",
         "type": "\"integer\""
        },
        {
         "metadata": "{}",
         "name": "ProductName",
         "type": "\"string\""
        },
        {
         "metadata": "{}",
         "name": "Version",
         "type": "\"integer\""
        }
       ],
       "type": "table"
      }
     },
     "output_type": "display_data"
    },
    {
     "output_type": "display_data",
     "data": {
      "text/html": [
       "<style scoped>\n",
       "  .table-result-container {\n",
       "    max-height: 300px;\n",
       "    overflow: auto;\n",
       "  }\n",
       "  table, th, td {\n",
       "    border: 1px solid black;\n",
       "    border-collapse: collapse;\n",
       "  }\n",
       "  th, td {\n",
       "    padding: 5px;\n",
       "  }\n",
       "  th {\n",
       "    text-align: left;\n",
       "  }\n",
       "</style><div class='table-result-container'><table class='table-result'><thead style='background-color: white'><tr><th>ProductKey</th><th>Product_ID</th><th>ProductName</th><th>ProductDimensions</th><th>ProductDescription</th><th>ProductCostPerUnit</th><th>ProductPricePerUnit</th><th>ProductCategory</th><th>ProductConstructionDays</th><th>ProductQuantity</th><th>ProductColor</th><th>ProductSurfaceFinish</th><th>ProductCompliance</th><th>ProductWeight</th><th>Version</th><th>RowIsCurrent</th><th>RowStartDate</th><th>RowEndDate</th><th>RowChangeReason</th></tr></thead><tbody><tr><td>1</td><td>1</td><td>Cellulose Blown-In Insulation</td><td>8.05x0.88x0.81</td><td>Write field fly whatever vote next deep a.</td><td>20.19</td><td>25.61</td><td>Insulation</td><td>20</td><td>694</td><td>Ivory</td><td>Organization</td><td>false</td><td>5.22</td><td>2004</td><td>true</td><td>2024-06-18T11:29:20.398158Z</td><td>9999-12-31T00:00:00Z</td><td>null</td></tr><tr><td>2</td><td>2</td><td>Designer Paving Stones</td><td>3.29x3.14x0.27</td><td>Expert south hundred bed modern.</td><td>27.16</td><td>34.87</td><td>Bricks and Blocks</td><td>15</td><td>882</td><td>HoneyDew</td><td>Since</td><td>true</td><td>1.81</td><td>2005</td><td>true</td><td>2024-06-18T11:29:20.398158Z</td><td>9999-12-31T00:00:00Z</td><td>null</td></tr><tr><td>3</td><td>3</td><td>Aluminum Roofing Panels</td><td>6.05x0.65x0.62</td><td>Agency give hotel all arrive.</td><td>13.48</td><td>26.84</td><td>Steel and Metal</td><td>6</td><td>899</td><td>BlanchedAlmond</td><td>Mind</td><td>false</td><td>17.93</td><td>2006</td><td>true</td><td>2024-06-18T11:29:20.398158Z</td><td>9999-12-31T00:00:00Z</td><td>null</td></tr><tr><td>4</td><td>4</td><td>Asphalt Shingles</td><td>8.42x4.37x0.95</td><td>Open tend bar degree who.</td><td>37.71</td><td>56.13</td><td>Roofing</td><td>28</td><td>782</td><td>Cornsilk</td><td>Military</td><td>false</td><td>3.05</td><td>2007</td><td>true</td><td>2024-06-18T11:29:20.398158Z</td><td>9999-12-31T00:00:00Z</td><td>null</td></tr><tr><td>5</td><td>5</td><td>Spray Foam Insulation Kit</td><td>4.73x1.07x0.66</td><td>Among new offer visit.</td><td>47.69</td><td>66.95</td><td>Insulation</td><td>13</td><td>769</td><td>LightPink</td><td>Response</td><td>true</td><td>37.41</td><td>2008</td><td>true</td><td>2024-06-18T11:29:20.398158Z</td><td>9999-12-31T00:00:00Z</td><td>null</td></tr></tbody></table></div>"
      ]
     },
     "metadata": {
      "application/vnd.databricks.v1+output": {
       "addedWidgets": {},
       "aggData": [],
       "aggError": "",
       "aggOverflow": false,
       "aggSchema": [],
       "aggSeriesLimitReached": false,
       "aggType": "",
       "arguments": {},
       "columnCustomDisplayInfos": {},
       "data": [
        [
         1,
         1,
         "Cellulose Blown-In Insulation",
         "8.05x0.88x0.81",
         "Write field fly whatever vote next deep a.",
         20.19,
         25.61,
         "Insulation",
         20,
         694,
         "Ivory",
         "Organization",
         false,
         5.22,
         2004,
         true,
         "2024-06-18T11:29:20.398158Z",
         "9999-12-31T00:00:00Z",
         null
        ],
        [
         2,
         2,
         "Designer Paving Stones",
         "3.29x3.14x0.27",
         "Expert south hundred bed modern.",
         27.16,
         34.87,
         "Bricks and Blocks",
         15,
         882,
         "HoneyDew",
         "Since",
         true,
         1.81,
         2005,
         true,
         "2024-06-18T11:29:20.398158Z",
         "9999-12-31T00:00:00Z",
         null
        ],
        [
         3,
         3,
         "Aluminum Roofing Panels",
         "6.05x0.65x0.62",
         "Agency give hotel all arrive.",
         13.48,
         26.84,
         "Steel and Metal",
         6,
         899,
         "BlanchedAlmond",
         "Mind",
         false,
         17.93,
         2006,
         true,
         "2024-06-18T11:29:20.398158Z",
         "9999-12-31T00:00:00Z",
         null
        ],
        [
         4,
         4,
         "Asphalt Shingles",
         "8.42x4.37x0.95",
         "Open tend bar degree who.",
         37.71,
         56.13,
         "Roofing",
         28,
         782,
         "Cornsilk",
         "Military",
         false,
         3.05,
         2007,
         true,
         "2024-06-18T11:29:20.398158Z",
         "9999-12-31T00:00:00Z",
         null
        ],
        [
         5,
         5,
         "Spray Foam Insulation Kit",
         "4.73x1.07x0.66",
         "Among new offer visit.",
         47.69,
         66.95,
         "Insulation",
         13,
         769,
         "LightPink",
         "Response",
         true,
         37.41,
         2008,
         true,
         "2024-06-18T11:29:20.398158Z",
         "9999-12-31T00:00:00Z",
         null
        ]
       ],
       "datasetInfos": [],
       "dbfsResultPath": null,
       "isJsonSchema": true,
       "metadata": {},
       "overflow": false,
       "plotOptions": {
        "customPlotOptions": {},
        "displayType": "table",
        "pivotAggregation": null,
        "pivotColumns": null,
        "xColumns": null,
        "yColumns": null
       },
       "removedWidgets": [],
       "schema": [
        {
         "metadata": "{}",
         "name": "ProductKey",
         "type": "\"integer\""
        },
        {
         "metadata": "{}",
         "name": "Product_ID",
         "type": "\"integer\""
        },
        {
         "metadata": "{}",
         "name": "ProductName",
         "type": "\"string\""
        },
        {
         "metadata": "{}",
         "name": "ProductDimensions",
         "type": "\"string\""
        },
        {
         "metadata": "{}",
         "name": "ProductDescription",
         "type": "\"string\""
        },
        {
         "metadata": "{}",
         "name": "ProductCostPerUnit",
         "type": "\"double\""
        },
        {
         "metadata": "{}",
         "name": "ProductPricePerUnit",
         "type": "\"double\""
        },
        {
         "metadata": "{}",
         "name": "ProductCategory",
         "type": "\"string\""
        },
        {
         "metadata": "{}",
         "name": "ProductConstructionDays",
         "type": "\"integer\""
        },
        {
         "metadata": "{}",
         "name": "ProductQuantity",
         "type": "\"integer\""
        },
        {
         "metadata": "{}",
         "name": "ProductColor",
         "type": "\"string\""
        },
        {
         "metadata": "{}",
         "name": "ProductSurfaceFinish",
         "type": "\"string\""
        },
        {
         "metadata": "{}",
         "name": "ProductCompliance",
         "type": "\"boolean\""
        },
        {
         "metadata": "{}",
         "name": "ProductWeight",
         "type": "\"double\""
        },
        {
         "metadata": "{}",
         "name": "Version",
         "type": "\"integer\""
        },
        {
         "metadata": "{}",
         "name": "RowIsCurrent",
         "type": "\"boolean\""
        },
        {
         "metadata": "{}",
         "name": "RowStartDate",
         "type": "\"timestamp\""
        },
        {
         "metadata": "{}",
         "name": "RowEndDate",
         "type": "\"timestamp\""
        },
        {
         "metadata": "{}",
         "name": "RowChangeReason",
         "type": "\"string\""
        }
       ],
       "type": "table"
      }
     },
     "output_type": "display_data"
    },
    {
     "output_type": "display_data",
     "data": {
      "text/html": [
       "<style scoped>\n",
       "  .table-result-container {\n",
       "    max-height: 300px;\n",
       "    overflow: auto;\n",
       "  }\n",
       "  table, th, td {\n",
       "    border: 1px solid black;\n",
       "    border-collapse: collapse;\n",
       "  }\n",
       "  th, td {\n",
       "    padding: 5px;\n",
       "  }\n",
       "  th {\n",
       "    text-align: left;\n",
       "  }\n",
       "</style><div class='table-result-container'><table class='table-result'><thead style='background-color: white'><tr><th>CustomerKey</th><th>ProductKey</th><th>DeliveryKey</th><th>OrderDateKey</th><th>DeliveryDateKey</th><th>OrderID</th><th>OrderStatus</th><th>OrderDate</th><th>CancelledDate</th><th>Units</th><th>Profit</th><th>Version</th></tr></thead><tbody><tr><td>11</td><td>53</td><td>1</td><td>20241218</td><td>null</td><td>1</td><td>In Delivery</td><td>2024-12-18T00:00:00Z</td><td>null</td><td>6</td><td>87.9</td><td>3766</td></tr><tr><td>11</td><td>344</td><td>1</td><td>20241218</td><td>null</td><td>1</td><td>In Delivery</td><td>2024-12-18T00:00:00Z</td><td>null</td><td>6</td><td>71.46</td><td>3766</td></tr><tr><td>93</td><td>280</td><td>null</td><td>20241103</td><td>null</td><td>2</td><td>In Process</td><td>2024-11-03T00:00:00Z</td><td>null</td><td>3</td><td>40.95</td><td>3767</td></tr><tr><td>19</td><td>242</td><td>2</td><td>20241127</td><td>null</td><td>3</td><td>In Delivery</td><td>2024-11-27T00:00:00Z</td><td>null</td><td>5</td><td>97.1</td><td>3768</td></tr><tr><td>19</td><td>382</td><td>2</td><td>20241127</td><td>null</td><td>3</td><td>In Delivery</td><td>2024-11-27T00:00:00Z</td><td>null</td><td>9</td><td>52.47</td><td>3768</td></tr></tbody></table></div>"
      ]
     },
     "metadata": {
      "application/vnd.databricks.v1+output": {
       "addedWidgets": {},
       "aggData": [],
       "aggError": "",
       "aggOverflow": false,
       "aggSchema": [],
       "aggSeriesLimitReached": false,
       "aggType": "",
       "arguments": {},
       "columnCustomDisplayInfos": {},
       "data": [
        [
         11,
         53,
         1,
         20241218,
         null,
         1,
         "In Delivery",
         "2024-12-18T00:00:00Z",
         null,
         6,
         87.9,
         3766
        ],
        [
         11,
         344,
         1,
         20241218,
         null,
         1,
         "In Delivery",
         "2024-12-18T00:00:00Z",
         null,
         6,
         71.46,
         3766
        ],
        [
         93,
         280,
         null,
         20241103,
         null,
         2,
         "In Process",
         "2024-11-03T00:00:00Z",
         null,
         3,
         40.95,
         3767
        ],
        [
         19,
         242,
         2,
         20241127,
         null,
         3,
         "In Delivery",
         "2024-11-27T00:00:00Z",
         null,
         5,
         97.1,
         3768
        ],
        [
         19,
         382,
         2,
         20241127,
         null,
         3,
         "In Delivery",
         "2024-11-27T00:00:00Z",
         null,
         9,
         52.47,
         3768
        ]
       ],
       "datasetInfos": [],
       "dbfsResultPath": null,
       "isJsonSchema": true,
       "metadata": {},
       "overflow": false,
       "plotOptions": {
        "customPlotOptions": {},
        "displayType": "table",
        "pivotAggregation": null,
        "pivotColumns": null,
        "xColumns": null,
        "yColumns": null
       },
       "removedWidgets": [],
       "schema": [
        {
         "metadata": "{}",
         "name": "CustomerKey",
         "type": "\"integer\""
        },
        {
         "metadata": "{}",
         "name": "ProductKey",
         "type": "\"integer\""
        },
        {
         "metadata": "{}",
         "name": "DeliveryKey",
         "type": "\"integer\""
        },
        {
         "metadata": "{}",
         "name": "OrderDateKey",
         "type": "\"integer\""
        },
        {
         "metadata": "{}",
         "name": "DeliveryDateKey",
         "type": "\"integer\""
        },
        {
         "metadata": "{}",
         "name": "OrderID",
         "type": "\"integer\""
        },
        {
         "metadata": "{}",
         "name": "OrderStatus",
         "type": "\"string\""
        },
        {
         "metadata": "{}",
         "name": "OrderDate",
         "type": "\"timestamp\""
        },
        {
         "metadata": "{}",
         "name": "CancelledDate",
         "type": "\"timestamp\""
        },
        {
         "metadata": "{}",
         "name": "Units",
         "type": "\"integer\""
        },
        {
         "metadata": "{}",
         "name": "Profit",
         "type": "\"double\""
        },
        {
         "metadata": "{}",
         "name": "Version",
         "type": "\"integer\""
        }
       ],
       "type": "table"
      }
     },
     "output_type": "display_data"
    },
    {
     "output_type": "display_data",
     "data": {
      "text/html": [
       "<style scoped>\n",
       "  .table-result-container {\n",
       "    max-height: 300px;\n",
       "    overflow: auto;\n",
       "  }\n",
       "  table, th, td {\n",
       "    border: 1px solid black;\n",
       "    border-collapse: collapse;\n",
       "  }\n",
       "  th, td {\n",
       "    padding: 5px;\n",
       "  }\n",
       "  th {\n",
       "    text-align: left;\n",
       "  }\n",
       "</style><div class='table-result-container'><table class='table-result'><thead style='background-color: white'><tr><th>SupplierKey</th><th>SupplierID</th><th>SupplierName</th><th>RawMaterial_ID</th><th>RawMaterialName</th><th>RawMaterialCostPerUnit</th><th>Version</th><th>RowIsCurrent</th><th>RowStartDate</th><th>RowEndDate</th><th>RowChangeReason</th></tr></thead><tbody><tr><td>1</td><td>1</td><td>Alvarez</td><td> Russell and Wood</td><td>8</td><td>Vermiculite</td><td>1.8</td><td>2506</td><td>True</td><td>2024-06-18T11:29:26.625567Z</td><td>9999-12-31T00:00:00Z</td></tr><tr><td>2</td><td>2</td><td>SalazarYates</td><td>16</td><td>Fiberglass</td><td>2.10</td><td>2507.0</td><td>True</td><td>2024-06-18 11:29:26.6255672</td><td>9999-12-31T00:00:00Z</td><td>null</td></tr><tr><td>3</td><td>3</td><td>MaxwellHuynh</td><td>5</td><td>Vermiculite</td><td>3.14</td><td>2508.0</td><td>True</td><td>2024-06-18 11:29:26.6255672</td><td>9999-12-31T00:00:00Z</td><td>null</td></tr><tr><td>4</td><td>4</td><td>Campbell</td><td> Cummings and Hutchinson</td><td>48</td><td>Cellulose Fiber</td><td>0.67</td><td>2509</td><td>True</td><td>2024-06-18T11:29:26.625567Z</td><td>9999-12-31T00:00:00Z</td></tr><tr><td>5</td><td>5</td><td>Knapp Group</td><td>2</td><td>Cork</td><td>2.11</td><td>2510.0</td><td>True</td><td>2024-06-18 11:29:26.6255672</td><td>9999-12-31T00:00:00Z</td><td>null</td></tr></tbody></table></div>"
      ]
     },
     "metadata": {
      "application/vnd.databricks.v1+output": {
       "addedWidgets": {},
       "aggData": [],
       "aggError": "",
       "aggOverflow": false,
       "aggSchema": [],
       "aggSeriesLimitReached": false,
       "aggType": "",
       "arguments": {},
       "columnCustomDisplayInfos": {},
       "data": [
        [
         1,
         1,
         "Alvarez",
         " Russell and Wood",
         "8",
         "Vermiculite",
         1.8,
         "2506",
         "True",
         "2024-06-18T11:29:26.625567Z",
         "9999-12-31T00:00:00Z"
        ],
        [
         2,
         2,
         "SalazarYates",
         "16",
         "Fiberglass",
         "2.10",
         2507.0,
         "True",
         "2024-06-18 11:29:26.6255672",
         "9999-12-31T00:00:00Z",
         null
        ],
        [
         3,
         3,
         "MaxwellHuynh",
         "5",
         "Vermiculite",
         "3.14",
         2508.0,
         "True",
         "2024-06-18 11:29:26.6255672",
         "9999-12-31T00:00:00Z",
         null
        ],
        [
         4,
         4,
         "Campbell",
         " Cummings and Hutchinson",
         "48",
         "Cellulose Fiber",
         0.67,
         "2509",
         "True",
         "2024-06-18T11:29:26.625567Z",
         "9999-12-31T00:00:00Z"
        ],
        [
         5,
         5,
         "Knapp Group",
         "2",
         "Cork",
         "2.11",
         2510.0,
         "True",
         "2024-06-18 11:29:26.6255672",
         "9999-12-31T00:00:00Z",
         null
        ]
       ],
       "datasetInfos": [],
       "dbfsResultPath": null,
       "isJsonSchema": true,
       "metadata": {},
       "overflow": false,
       "plotOptions": {
        "customPlotOptions": {},
        "displayType": "table",
        "pivotAggregation": null,
        "pivotColumns": null,
        "xColumns": null,
        "yColumns": null
       },
       "removedWidgets": [],
       "schema": [
        {
         "metadata": "{}",
         "name": "SupplierKey",
         "type": "\"integer\""
        },
        {
         "metadata": "{}",
         "name": "SupplierID",
         "type": "\"integer\""
        },
        {
         "metadata": "{}",
         "name": "SupplierName",
         "type": "\"string\""
        },
        {
         "metadata": "{}",
         "name": "RawMaterial_ID",
         "type": "\"string\""
        },
        {
         "metadata": "{}",
         "name": "RawMaterialName",
         "type": "\"string\""
        },
        {
         "metadata": "{}",
         "name": "RawMaterialCostPerUnit",
         "type": "\"string\""
        },
        {
         "metadata": "{}",
         "name": "Version",
         "type": "\"double\""
        },
        {
         "metadata": "{}",
         "name": "RowIsCurrent",
         "type": "\"string\""
        },
        {
         "metadata": "{}",
         "name": "RowStartDate",
         "type": "\"string\""
        },
        {
         "metadata": "{}",
         "name": "RowEndDate",
         "type": "\"timestamp\""
        },
        {
         "metadata": "{}",
         "name": "RowChangeReason",
         "type": "\"timestamp\""
        }
       ],
       "type": "table"
      }
     },
     "output_type": "display_data"
    }
   ],
   "source": [
    "display(customers.limit(5))\n",
    "display(dates.limit(5))\n",
    "display(delivery.limit(5))\n",
    "display(production.limit(5))\n",
    "display(products.limit(5))\n",
    "display(sales.limit(5))\n",
    "display(suppliers.limit(5))"
   ]
  },
  {
   "cell_type": "markdown",
   "metadata": {
    "application/vnd.databricks.v1+cell": {
     "cellMetadata": {},
     "inputWidgets": {},
     "nuid": "8abe7239-0632-4b90-baf0-38549b038a38",
     "showTitle": false,
     "title": ""
    }
   },
   "source": [
    "\n",
    "### Step 4: (Optional) Create a view or table\n",
    "\n",
    "If you want to query the data as a SQL table, you can simply register it as a temporary *view*. E.g."
   ]
  },
  {
   "cell_type": "code",
   "execution_count": 0,
   "metadata": {
    "application/vnd.databricks.v1+cell": {
     "cellMetadata": {
      "byteLimit": 2048000,
      "rowLimit": 10000
     },
     "inputWidgets": {},
     "nuid": "88f300bc-d77c-4cea-b950-fdebb696a3a3",
     "showTitle": false,
     "title": ""
    }
   },
   "outputs": [],
   "source": [
    "customers.createOrReplaceTempView(\"customers\")"
   ]
  },
  {
   "cell_type": "markdown",
   "metadata": {
    "application/vnd.databricks.v1+cell": {
     "cellMetadata": {},
     "inputWidgets": {},
     "nuid": "be4f71a4-2c5b-4df4-8b5b-16b9c17c057a",
     "showTitle": false,
     "title": ""
    }
   },
   "source": [
    "\n",
    "Since this table is registered as a temp view, it will be available only to this notebook. If you'd like other users to be able to query this table, you can also create a table from the DataFrame."
   ]
  },
  {
   "cell_type": "markdown",
   "metadata": {
    "application/vnd.databricks.v1+cell": {
     "cellMetadata": {},
     "inputWidgets": {},
     "nuid": "e142d44b-0fd8-4168-ab0e-c5a3dadbb085",
     "showTitle": false,
     "title": ""
    }
   },
   "source": [
    "### Step 5. Save the Spark DataFrames as Parquet tables\n",
    "Make the DataFrames available as permanent tables.\n",
    "This format is useful in terms of efficiency for storage and query performance.\n",
    "This table will persist across cluster restarts and allow various users across different notebooks to query this data."
   ]
  },
  {
   "cell_type": "code",
   "execution_count": 0,
   "metadata": {
    "application/vnd.databricks.v1+cell": {
     "cellMetadata": {},
     "inputWidgets": {},
     "nuid": "f24bd52f-a320-42cc-82da-16809f93c29a",
     "showTitle": false,
     "title": ""
    }
   },
   "outputs": [],
   "source": [
    "customers.write.format(\"parquet\").saveAsTable(\"Customers\")\n",
    "dates.write.format(\"parquet\").saveAsTable(\"Dates\")\n",
    "delivery.write.format(\"parquet\").saveAsTable(\"Delivery\")\n",
    "production.write.format(\"parquet\").saveAsTable(\"Production\")\n",
    "products.write.format(\"parquet\").saveAsTable(\"Products\")\n",
    "sales.write.format(\"parquet\").saveAsTable(\"Sales\")\n",
    "suppliers.write.format(\"parquet\").saveAsTable(\"Suppliers\")"
   ]
  },
  {
   "cell_type": "markdown",
   "metadata": {
    "application/vnd.databricks.v1+cell": {
     "cellMetadata": {},
     "inputWidgets": {},
     "nuid": "ee0c398d-46bf-4cc4-b057-c0b80c4c9421",
     "showTitle": false,
     "title": ""
    }
   },
   "source": [
    "### Step 6. Sample Reporting Queries "
   ]
  },
  {
   "cell_type": "markdown",
   "metadata": {
    "application/vnd.databricks.v1+cell": {
     "cellMetadata": {},
     "inputWidgets": {},
     "nuid": "317e1592-42f6-441b-af35-23833430220a",
     "showTitle": false,
     "title": ""
    }
   },
   "source": [
    "#### 1. Displaying 10 Customers Starting from the 31st Row"
   ]
  },
  {
   "cell_type": "code",
   "execution_count": 0,
   "metadata": {
    "application/vnd.databricks.v1+cell": {
     "cellMetadata": {
      "byteLimit": 2048000,
      "implicitDf": true,
      "rowLimit": 10000
     },
     "inputWidgets": {},
     "nuid": "550d4d19-873b-4ce7-8bdd-80a5d23a9bb8",
     "showTitle": false,
     "title": ""
    }
   },
   "outputs": [
    {
     "output_type": "display_data",
     "data": {
      "text/html": [
       "<style scoped>\n",
       "  .table-result-container {\n",
       "    max-height: 300px;\n",
       "    overflow: auto;\n",
       "  }\n",
       "  table, th, td {\n",
       "    border: 1px solid black;\n",
       "    border-collapse: collapse;\n",
       "  }\n",
       "  th, td {\n",
       "    padding: 5px;\n",
       "  }\n",
       "  th {\n",
       "    text-align: left;\n",
       "  }\n",
       "</style><div class='table-result-container'><table class='table-result'><thead style='background-color: white'><tr><th>CustomerKey</th><th>CustomerID</th><th>ContactName</th><th>CustomerPhone</th><th>CustomerEmail</th><th>CustomerCity</th><th>CustomerStreet</th><th>CustomerNumber</th><th>Version</th><th>RowIsCurrent</th><th>RowStartDate</th><th>RowEndDate</th><th>RowChangeReason</th></tr></thead><tbody><tr><td>31</td><td>31</td><td>Ashley Ware</td><td>(659)423-6299</td><td>ashley.ware@example.com</td><td>Havana</td><td>Crosby Cliff</td><td>244</td><td>2587</td><td>true</td><td>2024-06-18T11:29:04.581235Z</td><td>9999-12-31T00:00:00Z</td><td>null</td></tr><tr><td>32</td><td>32</td><td>Laurie Ross</td><td>4088336284</td><td>laurie.ross@example.com</td><td>Tokyo</td><td>Jessica Oval</td><td>1827</td><td>2588</td><td>true</td><td>2024-06-18T11:29:04.581235Z</td><td>9999-12-31T00:00:00Z</td><td>null</td></tr><tr><td>33</td><td>33</td><td>Tammy Byrd</td><td>445-683-9653x06753</td><td>tammy.byrd@example.com</td><td>Berlin</td><td>David Valleys</td><td>9093</td><td>2589</td><td>true</td><td>2024-06-18T11:29:04.581235Z</td><td>9999-12-31T00:00:00Z</td><td>null</td></tr><tr><td>34</td><td>34</td><td>Lisa Stewart</td><td>637.896.7165x32298</td><td>lisa.stewart@example.com</td><td>Los Angeles</td><td>Cline Summit</td><td>113</td><td>2590</td><td>true</td><td>2024-06-18T11:29:04.581235Z</td><td>9999-12-31T00:00:00Z</td><td>null</td></tr><tr><td>35</td><td>35</td><td>Elizabeth Rios</td><td>(471)289-4606x116</td><td>elizabeth.rios@example.com</td><td>Madrid</td><td>Martin Village</td><td>409</td><td>2591</td><td>true</td><td>2024-06-18T11:29:04.581235Z</td><td>9999-12-31T00:00:00Z</td><td>null</td></tr><tr><td>36</td><td>36</td><td>Robert Campbell</td><td>(615)625-8588x0548</td><td>robert.campbell@example.com</td><td>New York</td><td>Kemp Run</td><td>35561</td><td>2592</td><td>true</td><td>2024-06-18T11:29:04.581235Z</td><td>9999-12-31T00:00:00Z</td><td>null</td></tr><tr><td>37</td><td>37</td><td>Steven Miller</td><td>(367)632-9392</td><td>steven.miller@example.com</td><td>Montreal</td><td>Jennifer Key</td><td>489</td><td>2593</td><td>true</td><td>2024-06-18T11:29:04.581235Z</td><td>9999-12-31T00:00:00Z</td><td>null</td></tr><tr><td>38</td><td>38</td><td>Cassandra Brown</td><td>576.643.7863x903</td><td>cassandra.brown@example.com</td><td>London</td><td>Flores Burg</td><td>3107</td><td>2594</td><td>true</td><td>2024-06-18T11:29:04.581235Z</td><td>9999-12-31T00:00:00Z</td><td>null</td></tr><tr><td>39</td><td>39</td><td>Charles Brewer</td><td>530.475.1582</td><td>charles.brewer@example.com</td><td>Athens</td><td>James Well</td><td>35455</td><td>2595</td><td>true</td><td>2024-06-18T11:29:04.581235Z</td><td>9999-12-31T00:00:00Z</td><td>null</td></tr><tr><td>40</td><td>40</td><td>Jennifer Dickerson</td><td>(975)612-3053x0239</td><td>jennifer.dickerson@example.com</td><td>Melbourne</td><td>Webster Circles</td><td>2363</td><td>2596</td><td>true</td><td>2024-06-18T11:29:04.581235Z</td><td>9999-12-31T00:00:00Z</td><td>null</td></tr></tbody></table></div>"
      ]
     },
     "metadata": {
      "application/vnd.databricks.v1+output": {
       "addedWidgets": {},
       "aggData": [],
       "aggError": "",
       "aggOverflow": false,
       "aggSchema": [],
       "aggSeriesLimitReached": false,
       "aggType": "",
       "arguments": {},
       "columnCustomDisplayInfos": {},
       "data": [
        [
         31,
         31,
         "Ashley Ware",
         "(659)423-6299",
         "ashley.ware@example.com",
         "Havana",
         "Crosby Cliff",
         244,
         2587,
         true,
         "2024-06-18T11:29:04.581235Z",
         "9999-12-31T00:00:00Z",
         null
        ],
        [
         32,
         32,
         "Laurie Ross",
         "4088336284",
         "laurie.ross@example.com",
         "Tokyo",
         "Jessica Oval",
         1827,
         2588,
         true,
         "2024-06-18T11:29:04.581235Z",
         "9999-12-31T00:00:00Z",
         null
        ],
        [
         33,
         33,
         "Tammy Byrd",
         "445-683-9653x06753",
         "tammy.byrd@example.com",
         "Berlin",
         "David Valleys",
         9093,
         2589,
         true,
         "2024-06-18T11:29:04.581235Z",
         "9999-12-31T00:00:00Z",
         null
        ],
        [
         34,
         34,
         "Lisa Stewart",
         "637.896.7165x32298",
         "lisa.stewart@example.com",
         "Los Angeles",
         "Cline Summit",
         113,
         2590,
         true,
         "2024-06-18T11:29:04.581235Z",
         "9999-12-31T00:00:00Z",
         null
        ],
        [
         35,
         35,
         "Elizabeth Rios",
         "(471)289-4606x116",
         "elizabeth.rios@example.com",
         "Madrid",
         "Martin Village",
         409,
         2591,
         true,
         "2024-06-18T11:29:04.581235Z",
         "9999-12-31T00:00:00Z",
         null
        ],
        [
         36,
         36,
         "Robert Campbell",
         "(615)625-8588x0548",
         "robert.campbell@example.com",
         "New York",
         "Kemp Run",
         35561,
         2592,
         true,
         "2024-06-18T11:29:04.581235Z",
         "9999-12-31T00:00:00Z",
         null
        ],
        [
         37,
         37,
         "Steven Miller",
         "(367)632-9392",
         "steven.miller@example.com",
         "Montreal",
         "Jennifer Key",
         489,
         2593,
         true,
         "2024-06-18T11:29:04.581235Z",
         "9999-12-31T00:00:00Z",
         null
        ],
        [
         38,
         38,
         "Cassandra Brown",
         "576.643.7863x903",
         "cassandra.brown@example.com",
         "London",
         "Flores Burg",
         3107,
         2594,
         true,
         "2024-06-18T11:29:04.581235Z",
         "9999-12-31T00:00:00Z",
         null
        ],
        [
         39,
         39,
         "Charles Brewer",
         "530.475.1582",
         "charles.brewer@example.com",
         "Athens",
         "James Well",
         35455,
         2595,
         true,
         "2024-06-18T11:29:04.581235Z",
         "9999-12-31T00:00:00Z",
         null
        ],
        [
         40,
         40,
         "Jennifer Dickerson",
         "(975)612-3053x0239",
         "jennifer.dickerson@example.com",
         "Melbourne",
         "Webster Circles",
         2363,
         2596,
         true,
         "2024-06-18T11:29:04.581235Z",
         "9999-12-31T00:00:00Z",
         null
        ]
       ],
       "datasetInfos": [],
       "dbfsResultPath": null,
       "isJsonSchema": true,
       "metadata": {
        "createTempViewForImplicitDf": true,
        "dataframeName": "_sqldf",
        "executionCount": 35
       },
       "overflow": false,
       "plotOptions": {
        "customPlotOptions": {},
        "displayType": "table",
        "pivotAggregation": null,
        "pivotColumns": null,
        "xColumns": null,
        "yColumns": null
       },
       "removedWidgets": [],
       "schema": [
        {
         "metadata": "{}",
         "name": "CustomerKey",
         "type": "\"integer\""
        },
        {
         "metadata": "{}",
         "name": "CustomerID",
         "type": "\"integer\""
        },
        {
         "metadata": "{}",
         "name": "ContactName",
         "type": "\"string\""
        },
        {
         "metadata": "{}",
         "name": "CustomerPhone",
         "type": "\"string\""
        },
        {
         "metadata": "{}",
         "name": "CustomerEmail",
         "type": "\"string\""
        },
        {
         "metadata": "{}",
         "name": "CustomerCity",
         "type": "\"string\""
        },
        {
         "metadata": "{}",
         "name": "CustomerStreet",
         "type": "\"string\""
        },
        {
         "metadata": "{}",
         "name": "CustomerNumber",
         "type": "\"integer\""
        },
        {
         "metadata": "{}",
         "name": "Version",
         "type": "\"integer\""
        },
        {
         "metadata": "{}",
         "name": "RowIsCurrent",
         "type": "\"boolean\""
        },
        {
         "metadata": "{}",
         "name": "RowStartDate",
         "type": "\"timestamp\""
        },
        {
         "metadata": "{}",
         "name": "RowEndDate",
         "type": "\"timestamp\""
        },
        {
         "metadata": "{}",
         "name": "RowChangeReason",
         "type": "\"string\""
        }
       ],
       "type": "table"
      }
     },
     "output_type": "display_data"
    }
   ],
   "source": [
    "%sql\n",
    "SELECT * FROM Customers LIMIT 10 OFFSET 30\n"
   ]
  },
  {
   "cell_type": "markdown",
   "metadata": {
    "application/vnd.databricks.v1+cell": {
     "cellMetadata": {},
     "inputWidgets": {},
     "nuid": "c88a3b6d-99e6-46b0-b4be-26dfef37819d",
     "showTitle": false,
     "title": ""
    }
   },
   "source": [
    "#### 2. Total Units Sold and Sales by Product Category"
   ]
  },
  {
   "cell_type": "code",
   "execution_count": 0,
   "metadata": {
    "application/vnd.databricks.v1+cell": {
     "cellMetadata": {
      "byteLimit": 2048000,
      "implicitDf": true,
      "rowLimit": 10000
     },
     "inputWidgets": {},
     "nuid": "5dfa1a56-ee6b-497d-8d64-05eea2de8661",
     "showTitle": false,
     "title": ""
    }
   },
   "outputs": [
    {
     "output_type": "display_data",
     "data": {
      "text/html": [
       "<style scoped>\n",
       "  .table-result-container {\n",
       "    max-height: 300px;\n",
       "    overflow: auto;\n",
       "  }\n",
       "  table, th, td {\n",
       "    border: 1px solid black;\n",
       "    border-collapse: collapse;\n",
       "  }\n",
       "  th, td {\n",
       "    padding: 5px;\n",
       "  }\n",
       "  th {\n",
       "    text-align: left;\n",
       "  }\n",
       "</style><div class='table-result-container'><table class='table-result'><thead style='background-color: white'><tr><th>ProductCategory</th><th>TotalUnitsSold</th><th>TotalSales</th></tr></thead><tbody><tr><td>Insulation</td><td>7177</td><td>80073.04</td></tr><tr><td>Roofing</td><td>6433</td><td>72425.06</td></tr><tr><td>Steel and Metal</td><td>6389</td><td>70101.48</td></tr><tr><td>Concrete and Cement</td><td>6603</td><td>67423.84</td></tr><tr><td>Bricks and Blocks</td><td>6315</td><td>63370.68</td></tr></tbody></table></div>"
      ]
     },
     "metadata": {
      "application/vnd.databricks.v1+output": {
       "addedWidgets": {},
       "aggData": [],
       "aggError": "",
       "aggOverflow": false,
       "aggSchema": [],
       "aggSeriesLimitReached": false,
       "aggType": "",
       "arguments": {},
       "columnCustomDisplayInfos": {},
       "data": [
        [
         "Insulation",
         7177,
         80073.04
        ],
        [
         "Roofing",
         6433,
         72425.06
        ],
        [
         "Steel and Metal",
         6389,
         70101.48
        ],
        [
         "Concrete and Cement",
         6603,
         67423.84
        ],
        [
         "Bricks and Blocks",
         6315,
         63370.68
        ]
       ],
       "datasetInfos": [],
       "dbfsResultPath": null,
       "isJsonSchema": true,
       "metadata": {
        "createTempViewForImplicitDf": true,
        "dataframeName": "_sqldf",
        "executionCount": 36
       },
       "overflow": false,
       "plotOptions": {
        "customPlotOptions": {},
        "displayType": "table",
        "pivotAggregation": null,
        "pivotColumns": null,
        "xColumns": null,
        "yColumns": null
       },
       "removedWidgets": [],
       "schema": [
        {
         "metadata": "{}",
         "name": "ProductCategory",
         "type": "\"string\""
        },
        {
         "metadata": "{}",
         "name": "TotalUnitsSold",
         "type": "\"long\""
        },
        {
         "metadata": "{}",
         "name": "TotalSales",
         "type": "\"double\""
        }
       ],
       "type": "table"
      }
     },
     "output_type": "display_data"
    }
   ],
   "source": [
    "%sql\n",
    "SELECT \n",
    "    p.ProductCategory,\n",
    "    ROUND(SUM(f.Units),3) AS TotalUnitsSold,\n",
    "    ROUND(SUM(f.Profit),3) AS TotalSales\n",
    "FROM Sales f\n",
    "INNER JOIN Products p ON f.ProductKey = p.ProductKey\n",
    "GROUP BY p.ProductCategory\n",
    "ORDER BY TotalSales DESC;\n"
   ]
  },
  {
   "cell_type": "markdown",
   "metadata": {
    "application/vnd.databricks.v1+cell": {
     "cellMetadata": {},
     "inputWidgets": {},
     "nuid": "d163e127-e41c-4875-9673-32d6db9fa17e",
     "showTitle": false,
     "title": ""
    }
   },
   "source": [
    "#### 3. Monthly Sales and Units Sold by Year"
   ]
  },
  {
   "cell_type": "code",
   "execution_count": 0,
   "metadata": {
    "application/vnd.databricks.v1+cell": {
     "cellMetadata": {
      "byteLimit": 2048000,
      "implicitDf": true,
      "rowLimit": 10000
     },
     "inputWidgets": {},
     "nuid": "7c1142f4-a7ae-4821-a017-c6385ee3f0dc",
     "showTitle": false,
     "title": ""
    }
   },
   "outputs": [
    {
     "output_type": "display_data",
     "data": {
      "text/html": [
       "<style scoped>\n",
       "  .table-result-container {\n",
       "    max-height: 300px;\n",
       "    overflow: auto;\n",
       "  }\n",
       "  table, th, td {\n",
       "    border: 1px solid black;\n",
       "    border-collapse: collapse;\n",
       "  }\n",
       "  th, td {\n",
       "    padding: 5px;\n",
       "  }\n",
       "  th {\n",
       "    text-align: left;\n",
       "  }\n",
       "</style><div class='table-result-container'><table class='table-result'><thead style='background-color: white'><tr><th>Year</th><th>Month</th><th>TotalUnitsSold</th><th>TotalSales</th></tr></thead><tbody><tr><td>2023</td><td>1</td><td>663</td><td>7178.63</td></tr><tr><td>2023</td><td>2</td><td>651</td><td>7267.45</td></tr><tr><td>2023</td><td>3</td><td>516</td><td>5476.63</td></tr><tr><td>2023</td><td>4</td><td>836</td><td>9020.32</td></tr><tr><td>2023</td><td>5</td><td>699</td><td>7812.85</td></tr><tr><td>2023</td><td>6</td><td>887</td><td>9706.44</td></tr><tr><td>2023</td><td>7</td><td>876</td><td>10019.22</td></tr><tr><td>2023</td><td>8</td><td>812</td><td>8974.54</td></tr><tr><td>2023</td><td>9</td><td>497</td><td>5137.49</td></tr><tr><td>2023</td><td>10</td><td>563</td><td>5810.98</td></tr><tr><td>2023</td><td>11</td><td>838</td><td>8839.62</td></tr><tr><td>2023</td><td>12</td><td>769</td><td>8322.9</td></tr><tr><td>2024</td><td>1</td><td>687</td><td>7580.43</td></tr><tr><td>2024</td><td>2</td><td>539</td><td>5695.13</td></tr><tr><td>2024</td><td>3</td><td>771</td><td>8316.41</td></tr><tr><td>2024</td><td>4</td><td>647</td><td>7007.55</td></tr><tr><td>2024</td><td>5</td><td>814</td><td>7912.89</td></tr><tr><td>2024</td><td>6</td><td>528</td><td>5616.25</td></tr><tr><td>2024</td><td>7</td><td>635</td><td>6489.61</td></tr><tr><td>2024</td><td>8</td><td>738</td><td>7134.13</td></tr><tr><td>2024</td><td>9</td><td>787</td><td>9111.23</td></tr><tr><td>2024</td><td>10</td><td>5104</td><td>55547.68</td></tr><tr><td>2024</td><td>11</td><td>8211</td><td>86821.68</td></tr><tr><td>2024</td><td>12</td><td>4849</td><td>52594.04</td></tr></tbody></table></div>"
      ]
     },
     "metadata": {
      "application/vnd.databricks.v1+output": {
       "addedWidgets": {},
       "aggData": [],
       "aggError": "",
       "aggOverflow": false,
       "aggSchema": [],
       "aggSeriesLimitReached": false,
       "aggType": "",
       "arguments": {},
       "columnCustomDisplayInfos": {},
       "data": [
        [
         2023,
         1,
         663,
         7178.63
        ],
        [
         2023,
         2,
         651,
         7267.45
        ],
        [
         2023,
         3,
         516,
         5476.63
        ],
        [
         2023,
         4,
         836,
         9020.32
        ],
        [
         2023,
         5,
         699,
         7812.85
        ],
        [
         2023,
         6,
         887,
         9706.44
        ],
        [
         2023,
         7,
         876,
         10019.22
        ],
        [
         2023,
         8,
         812,
         8974.54
        ],
        [
         2023,
         9,
         497,
         5137.49
        ],
        [
         2023,
         10,
         563,
         5810.98
        ],
        [
         2023,
         11,
         838,
         8839.62
        ],
        [
         2023,
         12,
         769,
         8322.9
        ],
        [
         2024,
         1,
         687,
         7580.43
        ],
        [
         2024,
         2,
         539,
         5695.13
        ],
        [
         2024,
         3,
         771,
         8316.41
        ],
        [
         2024,
         4,
         647,
         7007.55
        ],
        [
         2024,
         5,
         814,
         7912.89
        ],
        [
         2024,
         6,
         528,
         5616.25
        ],
        [
         2024,
         7,
         635,
         6489.61
        ],
        [
         2024,
         8,
         738,
         7134.13
        ],
        [
         2024,
         9,
         787,
         9111.23
        ],
        [
         2024,
         10,
         5104,
         55547.68
        ],
        [
         2024,
         11,
         8211,
         86821.68
        ],
        [
         2024,
         12,
         4849,
         52594.04
        ]
       ],
       "datasetInfos": [],
       "dbfsResultPath": null,
       "isJsonSchema": true,
       "metadata": {
        "createTempViewForImplicitDf": true,
        "dataframeName": "_sqldf",
        "executionCount": 37
       },
       "overflow": false,
       "plotOptions": {
        "customPlotOptions": {},
        "displayType": "table",
        "pivotAggregation": null,
        "pivotColumns": null,
        "xColumns": null,
        "yColumns": null
       },
       "removedWidgets": [],
       "schema": [
        {
         "metadata": "{}",
         "name": "Year",
         "type": "\"integer\""
        },
        {
         "metadata": "{}",
         "name": "Month",
         "type": "\"integer\""
        },
        {
         "metadata": "{}",
         "name": "TotalUnitsSold",
         "type": "\"long\""
        },
        {
         "metadata": "{}",
         "name": "TotalSales",
         "type": "\"double\""
        }
       ],
       "type": "table"
      }
     },
     "output_type": "display_data"
    }
   ],
   "source": [
    "%sql\n",
    "SELECT \n",
    "    YEAR(f.OrderDate) AS Year,\n",
    "    MONTH(f.OrderDate) AS Month,\n",
    "    SUM(f.Units) AS TotalUnitsSold,\n",
    "    ROUND(SUM(f.Profit),3) AS TotalSales\n",
    "FROM Sales f\n",
    "GROUP BY YEAR(f.OrderDate), MONTH(f.OrderDate)\n",
    "ORDER BY Year, Month;\n"
   ]
  },
  {
   "cell_type": "markdown",
   "metadata": {
    "application/vnd.databricks.v1+cell": {
     "cellMetadata": {},
     "inputWidgets": {},
     "nuid": "ecc9c3e5-a688-43c1-91e7-6c7a6f088f46",
     "showTitle": false,
     "title": ""
    }
   },
   "source": [
    "#### 4. Top 10 Customers by Total Spending"
   ]
  },
  {
   "cell_type": "code",
   "execution_count": 0,
   "metadata": {
    "application/vnd.databricks.v1+cell": {
     "cellMetadata": {
      "byteLimit": 2048000,
      "implicitDf": true,
      "rowLimit": 10000
     },
     "inputWidgets": {},
     "nuid": "71db7e40-174b-4fe2-a21c-43df40380b55",
     "showTitle": false,
     "title": ""
    }
   },
   "outputs": [
    {
     "output_type": "display_data",
     "data": {
      "text/html": [
       "<style scoped>\n",
       "  .table-result-container {\n",
       "    max-height: 300px;\n",
       "    overflow: auto;\n",
       "  }\n",
       "  table, th, td {\n",
       "    border: 1px solid black;\n",
       "    border-collapse: collapse;\n",
       "  }\n",
       "  th, td {\n",
       "    padding: 5px;\n",
       "  }\n",
       "  th {\n",
       "    text-align: left;\n",
       "  }\n",
       "</style><div class='table-result-container'><table class='table-result'><thead style='background-color: white'><tr><th>CustomerName</th><th>CustomerCity</th><th>TotalSpent</th></tr></thead><tbody><tr><td>Todd Oliver</td><td>Havana</td><td>5488.64</td></tr><tr><td>Cassandra Brown</td><td>London</td><td>5433.88</td></tr><tr><td>Shawn Anderson</td><td>Montreal</td><td>5265.12</td></tr><tr><td>Daniel Paul</td><td>London</td><td>5045.69</td></tr><tr><td>Steven Miller</td><td>Montreal</td><td>5008.54</td></tr><tr><td>Anna Jackson</td><td>Berlin</td><td>4972.55</td></tr><tr><td>Jennifer Dickerson</td><td>Melbourne</td><td>4936.72</td></tr><tr><td>Mary Dunn</td><td>Los Angeles</td><td>4918.85</td></tr><tr><td>Susan Munoz</td><td>Athens</td><td>4805.17</td></tr><tr><td>Daniel Arnold</td><td>Montreal</td><td>4723.12</td></tr></tbody></table></div>"
      ]
     },
     "metadata": {
      "application/vnd.databricks.v1+output": {
       "addedWidgets": {},
       "aggData": [],
       "aggError": "",
       "aggOverflow": false,
       "aggSchema": [],
       "aggSeriesLimitReached": false,
       "aggType": "",
       "arguments": {},
       "columnCustomDisplayInfos": {},
       "data": [
        [
         "Todd Oliver",
         "Havana",
         5488.64
        ],
        [
         "Cassandra Brown",
         "London",
         5433.88
        ],
        [
         "Shawn Anderson",
         "Montreal",
         5265.12
        ],
        [
         "Daniel Paul",
         "London",
         5045.69
        ],
        [
         "Steven Miller",
         "Montreal",
         5008.54
        ],
        [
         "Anna Jackson",
         "Berlin",
         4972.55
        ],
        [
         "Jennifer Dickerson",
         "Melbourne",
         4936.72
        ],
        [
         "Mary Dunn",
         "Los Angeles",
         4918.85
        ],
        [
         "Susan Munoz",
         "Athens",
         4805.17
        ],
        [
         "Daniel Arnold",
         "Montreal",
         4723.12
        ]
       ],
       "datasetInfos": [],
       "dbfsResultPath": null,
       "isJsonSchema": true,
       "metadata": {
        "createTempViewForImplicitDf": true,
        "dataframeName": "_sqldf",
        "executionCount": 38
       },
       "overflow": false,
       "plotOptions": {
        "customPlotOptions": {},
        "displayType": "table",
        "pivotAggregation": null,
        "pivotColumns": null,
        "xColumns": null,
        "yColumns": null
       },
       "removedWidgets": [],
       "schema": [
        {
         "metadata": "{}",
         "name": "CustomerName",
         "type": "\"string\""
        },
        {
         "metadata": "{}",
         "name": "CustomerCity",
         "type": "\"string\""
        },
        {
         "metadata": "{}",
         "name": "TotalSpent",
         "type": "\"double\""
        }
       ],
       "type": "table"
      }
     },
     "output_type": "display_data"
    }
   ],
   "source": [
    "%sql\n",
    "SELECT \n",
    "    c.ContactName AS CustomerName,\n",
    "    c.CustomerCity,\n",
    "    ROUND(SUM(f.Profit),3) AS TotalSpent\n",
    "FROM Sales f\n",
    "INNER JOIN Customers c ON f.CustomerKey = c.CustomerKey\n",
    "GROUP BY c.ContactName, c.CustomerCity\n",
    "ORDER BY TotalSpent DESC\n",
    "LIMIT 10;\n"
   ]
  },
  {
   "cell_type": "markdown",
   "metadata": {
    "application/vnd.databricks.v1+cell": {
     "cellMetadata": {},
     "inputWidgets": {},
     "nuid": "807915ec-ba99-4305-8f8b-6ccb98ea47b3",
     "showTitle": false,
     "title": ""
    }
   },
   "source": [
    "#### 5. Number of Orders by Order Status"
   ]
  },
  {
   "cell_type": "code",
   "execution_count": 0,
   "metadata": {
    "application/vnd.databricks.v1+cell": {
     "cellMetadata": {
      "byteLimit": 2048000,
      "implicitDf": true,
      "rowLimit": 10000
     },
     "inputWidgets": {},
     "nuid": "bac51ed7-7375-4528-a359-0353b9779656",
     "showTitle": false,
     "title": ""
    }
   },
   "outputs": [
    {
     "output_type": "display_data",
     "data": {
      "text/html": [
       "<style scoped>\n",
       "  .table-result-container {\n",
       "    max-height: 300px;\n",
       "    overflow: auto;\n",
       "  }\n",
       "  table, th, td {\n",
       "    border: 1px solid black;\n",
       "    border-collapse: collapse;\n",
       "  }\n",
       "  th, td {\n",
       "    padding: 5px;\n",
       "  }\n",
       "  th {\n",
       "    text-align: left;\n",
       "  }\n",
       "</style><div class='table-result-container'><table class='table-result'><thead style='background-color: white'><tr><th>OrderStatus</th><th>NumberOfOrders</th></tr></thead><tbody><tr><td>Complete</td><td>1554</td></tr><tr><td>Cancelled</td><td>1516</td></tr><tr><td>In Delivery</td><td>1467</td></tr><tr><td>In Process</td><td>1418</td></tr></tbody></table></div>"
      ]
     },
     "metadata": {
      "application/vnd.databricks.v1+output": {
       "addedWidgets": {},
       "aggData": [],
       "aggError": "",
       "aggOverflow": false,
       "aggSchema": [],
       "aggSeriesLimitReached": false,
       "aggType": "",
       "arguments": {},
       "columnCustomDisplayInfos": {},
       "data": [
        [
         "Complete",
         1554
        ],
        [
         "Cancelled",
         1516
        ],
        [
         "In Delivery",
         1467
        ],
        [
         "In Process",
         1418
        ]
       ],
       "datasetInfos": [],
       "dbfsResultPath": null,
       "isJsonSchema": true,
       "metadata": {
        "createTempViewForImplicitDf": true,
        "dataframeName": "_sqldf",
        "executionCount": 39
       },
       "overflow": false,
       "plotOptions": {
        "customPlotOptions": {},
        "displayType": "table",
        "pivotAggregation": null,
        "pivotColumns": null,
        "xColumns": null,
        "yColumns": null
       },
       "removedWidgets": [],
       "schema": [
        {
         "metadata": "{}",
         "name": "OrderStatus",
         "type": "\"string\""
        },
        {
         "metadata": "{}",
         "name": "NumberOfOrders",
         "type": "\"long\""
        }
       ],
       "type": "table"
      }
     },
     "output_type": "display_data"
    }
   ],
   "source": [
    "%sql\n",
    "SELECT \n",
    "    f.OrderStatus,\n",
    "    COUNT(f.OrderID) AS NumberOfOrders\n",
    "FROM Sales f\n",
    "GROUP BY f.OrderStatus\n",
    "ORDER BY NumberOfOrders DESC;\n"
   ]
  },
  {
   "cell_type": "markdown",
   "metadata": {
    "application/vnd.databricks.v1+cell": {
     "cellMetadata": {},
     "inputWidgets": {},
     "nuid": "29421389-f991-4209-aff1-a16d8281160e",
     "showTitle": false,
     "title": ""
    }
   },
   "source": [
    "#### 6. Average Delivery Time by Delivery Status"
   ]
  },
  {
   "cell_type": "code",
   "execution_count": 0,
   "metadata": {
    "application/vnd.databricks.v1+cell": {
     "cellMetadata": {
      "byteLimit": 2048000,
      "implicitDf": true,
      "rowLimit": 10000
     },
     "inputWidgets": {},
     "nuid": "96fac3f6-a180-4de4-8f20-0eec0da6863e",
     "showTitle": false,
     "title": ""
    }
   },
   "outputs": [
    {
     "output_type": "display_data",
     "data": {
      "text/html": [
       "<style scoped>\n",
       "  .table-result-container {\n",
       "    max-height: 300px;\n",
       "    overflow: auto;\n",
       "  }\n",
       "  table, th, td {\n",
       "    border: 1px solid black;\n",
       "    border-collapse: collapse;\n",
       "  }\n",
       "  th, td {\n",
       "    padding: 5px;\n",
       "  }\n",
       "  th {\n",
       "    text-align: left;\n",
       "  }\n",
       "</style><div class='table-result-container'><table class='table-result'><thead style='background-color: white'><tr><th>DeliveryStatus</th><th>AvgDeliveryTime</th></tr></thead><tbody><tr><td>null</td><td>null</td></tr><tr><td>In Delivery</td><td>null</td></tr><tr><td>In Process</td><td>null</td></tr><tr><td>Complete</td><td>11.067</td></tr></tbody></table></div>"
      ]
     },
     "metadata": {
      "application/vnd.databricks.v1+output": {
       "addedWidgets": {},
       "aggData": [],
       "aggError": "",
       "aggOverflow": false,
       "aggSchema": [],
       "aggSeriesLimitReached": false,
       "aggType": "",
       "arguments": {},
       "columnCustomDisplayInfos": {},
       "data": [
        [
         null,
         null
        ],
        [
         "In Delivery",
         null
        ],
        [
         "In Process",
         null
        ],
        [
         "Complete",
         11.067
        ]
       ],
       "datasetInfos": [],
       "dbfsResultPath": null,
       "isJsonSchema": true,
       "metadata": {
        "createTempViewForImplicitDf": true,
        "dataframeName": "_sqldf",
        "executionCount": 40
       },
       "overflow": false,
       "plotOptions": {
        "customPlotOptions": {},
        "displayType": "table",
        "pivotAggregation": null,
        "pivotColumns": null,
        "xColumns": null,
        "yColumns": null
       },
       "removedWidgets": [],
       "schema": [
        {
         "metadata": "{}",
         "name": "DeliveryStatus",
         "type": "\"string\""
        },
        {
         "metadata": "{}",
         "name": "AvgDeliveryTime",
         "type": "\"double\""
        }
       ],
       "type": "table"
      }
     },
     "output_type": "display_data"
    }
   ],
   "source": [
    "%sql\n",
    "SELECT \n",
    "    d.DeliveryStatus,\n",
    "    ROUND(AVG(DATEDIFF(day, d.DeliveryStartDate, d.DeliveryEndDate)),3) AS AvgDeliveryTime\n",
    "FROM Delivery d\n",
    "GROUP BY d.DeliveryStatus\n",
    "ORDER BY AvgDeliveryTime;\n"
   ]
  },
  {
   "cell_type": "markdown",
   "metadata": {
    "application/vnd.databricks.v1+cell": {
     "cellMetadata": {},
     "inputWidgets": {},
     "nuid": "e6cf0a5d-88e5-4d16-a654-09a548f70d12",
     "showTitle": false,
     "title": ""
    }
   },
   "source": [
    "#### 7. Total Raw Material Cost and Orders Fulfilled by Supplier"
   ]
  },
  {
   "cell_type": "code",
   "execution_count": 0,
   "metadata": {
    "application/vnd.databricks.v1+cell": {
     "cellMetadata": {
      "byteLimit": 2048000,
      "implicitDf": true,
      "rowLimit": 10000
     },
     "inputWidgets": {},
     "nuid": "7ad1bdbd-5aea-487a-9c48-1690584afce7",
     "showTitle": false,
     "title": ""
    }
   },
   "outputs": [
    {
     "output_type": "display_data",
     "data": {
      "text/html": [
       "<style scoped>\n",
       "  .table-result-container {\n",
       "    max-height: 300px;\n",
       "    overflow: auto;\n",
       "  }\n",
       "  table, th, td {\n",
       "    border: 1px solid black;\n",
       "    border-collapse: collapse;\n",
       "  }\n",
       "  th, td {\n",
       "    padding: 5px;\n",
       "  }\n",
       "  th {\n",
       "    text-align: left;\n",
       "  }\n",
       "</style><div class='table-result-container'><table class='table-result'><thead style='background-color: white'><tr><th>SupplierName</th><th>RawMaterialName</th><th>OrdersFulfilled</th><th>TotalRawMaterialCost</th></tr></thead><tbody><tr><td>Bridges</td><td>12</td><td>829</td><td>1.354753163E7</td></tr><tr><td>Rivera PLC</td><td>Polystyrene</td><td>834</td><td>1.163297063E7</td></tr><tr><td>Guerrero Ltd</td><td>Vermiculite</td><td>842</td><td>1.11784573E7</td></tr><tr><td>Parker</td><td>33</td><td>760</td><td>1.033248573E7</td></tr><tr><td>AyalaMartin</td><td>Fiberglass</td><td>767</td><td>1.002928796E7</td></tr><tr><td>SalazarYates</td><td>Fiberglass</td><td>631</td><td>9705494.66</td></tr><tr><td>ChapmanPrice</td><td>Cork</td><td>646</td><td>9696363.86</td></tr><tr><td>Knapp Group</td><td>Cork</td><td>675</td><td>8978515.23</td></tr><tr><td>Riley Ltd</td><td>Polystyrene</td><td>681</td><td>8362036.54</td></tr><tr><td>Huff Ltd</td><td>Perlite</td><td>542</td><td>8302228.25</td></tr><tr><td>VazquezMcintyre</td><td>Perlite</td><td>588</td><td>8174425.98</td></tr><tr><td>CarrollBrady</td><td>Vermiculite</td><td>565</td><td>8132162.81</td></tr><tr><td>MorrowMiller</td><td>Glass Wool</td><td>505</td><td>7920107.81</td></tr><tr><td>RosalesTaylor</td><td>Vermiculite</td><td>492</td><td>7740088.63</td></tr><tr><td>MartinezBanks</td><td>Fiberglass</td><td>562</td><td>7680340.43</td></tr><tr><td>HurstJones</td><td>Vermiculite</td><td>519</td><td>7665767.93</td></tr><tr><td>Meadows and Sons</td><td>Fiberglass</td><td>682</td><td>7657081.85</td></tr><tr><td>Harrell</td><td>3</td><td>490</td><td>7650474.42</td></tr><tr><td>Jackson and Sons</td><td>Mineral Wool</td><td>593</td><td>7524100.06</td></tr><tr><td>Campbell</td><td>48</td><td>570</td><td>7437636.18</td></tr><tr><td>VillaHansen</td><td>Cellulose Fiber</td><td>600</td><td>7236267.78</td></tr><tr><td>Cardenas</td><td>37</td><td>470</td><td>7066290.02</td></tr><tr><td>RomeroHaynes</td><td>Polystyrene</td><td>503</td><td>7028812.59</td></tr><tr><td>MaxwellHuynh</td><td>Vermiculite</td><td>574</td><td>6943578.53</td></tr><tr><td>WalkerGaines</td><td>Cork</td><td>434</td><td>6901166.62</td></tr><tr><td>SwansonFord</td><td>Cellulose Fiber</td><td>557</td><td>6828638.41</td></tr><tr><td>HillGallagher</td><td>Expanded Polystyrene (EPS)</td><td>558</td><td>6789561.62</td></tr><tr><td>Myers and Sons</td><td>Vermiculite</td><td>510</td><td>6615231.36</td></tr><tr><td>Smith PLC</td><td>Expanded Polystyrene (EPS)</td><td>370</td><td>6427703.09</td></tr><tr><td>HurstHuang</td><td>Expanded Polystyrene (EPS)</td><td>438</td><td>6379433.01</td></tr><tr><td>Gomez</td><td>20</td><td>548</td><td>6366441.65</td></tr><tr><td>Alvarez</td><td>8</td><td>425</td><td>6329429.68</td></tr><tr><td>KelleySmith</td><td>Mineral Wool</td><td>458</td><td>6171234.37</td></tr><tr><td>Barnes and Sons</td><td>Polystyrene</td><td>545</td><td>6110017.9</td></tr><tr><td>Kirk and Sons</td><td>Perlite</td><td>419</td><td>6015792.47</td></tr><tr><td>Delgado</td><td>19</td><td>505</td><td>5987570.41</td></tr><tr><td>SmithOwen</td><td>Glass Wool</td><td>534</td><td>5852382.43</td></tr><tr><td>Pearson Inc</td><td>Fiberglass</td><td>489</td><td>5730124.96</td></tr><tr><td>Stewart</td><td>35</td><td>456</td><td>5687573.96</td></tr><tr><td>Lawrence</td><td>22</td><td>525</td><td>5685356.03</td></tr><tr><td>NortonMendoza</td><td>Glass Wool</td><td>442</td><td>5570067.98</td></tr><tr><td>Watkins PLC</td><td>Polyurethane</td><td>528</td><td>5457649.97</td></tr><tr><td>Yang Group</td><td>Cork</td><td>543</td><td>5233338.97</td></tr><tr><td>Maxwell Inc</td><td>Polystyrene</td><td>596</td><td>5206435.89</td></tr><tr><td>Walker Group</td><td>Polystyrene</td><td>415</td><td>5143058.84</td></tr><tr><td>KaneJohnson</td><td>Polyurethane</td><td>543</td><td>4867000.5</td></tr><tr><td>Tanner</td><td>32</td><td>360</td><td>4638322.38</td></tr><tr><td>Rocha</td><td>26</td><td>380</td><td>4499487.85</td></tr><tr><td>WagnerButler</td><td>Mineral Wool</td><td>492</td><td>4419483.47</td></tr><tr><td>King PLC</td><td>Polystyrene</td><td>329</td><td>2566431.27</td></tr></tbody></table></div>"
      ]
     },
     "metadata": {
      "application/vnd.databricks.v1+output": {
       "addedWidgets": {},
       "aggData": [],
       "aggError": "",
       "aggOverflow": false,
       "aggSchema": [],
       "aggSeriesLimitReached": false,
       "aggType": "",
       "arguments": {},
       "columnCustomDisplayInfos": {},
       "data": [
        [
         "Bridges",
         "12",
         829,
         1.354753163E7
        ],
        [
         "Rivera PLC",
         "Polystyrene",
         834,
         1.163297063E7
        ],
        [
         "Guerrero Ltd",
         "Vermiculite",
         842,
         1.11784573E7
        ],
        [
         "Parker",
         "33",
         760,
         1.033248573E7
        ],
        [
         "AyalaMartin",
         "Fiberglass",
         767,
         1.002928796E7
        ],
        [
         "SalazarYates",
         "Fiberglass",
         631,
         9705494.66
        ],
        [
         "ChapmanPrice",
         "Cork",
         646,
         9696363.86
        ],
        [
         "Knapp Group",
         "Cork",
         675,
         8978515.23
        ],
        [
         "Riley Ltd",
         "Polystyrene",
         681,
         8362036.54
        ],
        [
         "Huff Ltd",
         "Perlite",
         542,
         8302228.25
        ],
        [
         "VazquezMcintyre",
         "Perlite",
         588,
         8174425.98
        ],
        [
         "CarrollBrady",
         "Vermiculite",
         565,
         8132162.81
        ],
        [
         "MorrowMiller",
         "Glass Wool",
         505,
         7920107.81
        ],
        [
         "RosalesTaylor",
         "Vermiculite",
         492,
         7740088.63
        ],
        [
         "MartinezBanks",
         "Fiberglass",
         562,
         7680340.43
        ],
        [
         "HurstJones",
         "Vermiculite",
         519,
         7665767.93
        ],
        [
         "Meadows and Sons",
         "Fiberglass",
         682,
         7657081.85
        ],
        [
         "Harrell",
         "3",
         490,
         7650474.42
        ],
        [
         "Jackson and Sons",
         "Mineral Wool",
         593,
         7524100.06
        ],
        [
         "Campbell",
         "48",
         570,
         7437636.18
        ],
        [
         "VillaHansen",
         "Cellulose Fiber",
         600,
         7236267.78
        ],
        [
         "Cardenas",
         "37",
         470,
         7066290.02
        ],
        [
         "RomeroHaynes",
         "Polystyrene",
         503,
         7028812.59
        ],
        [
         "MaxwellHuynh",
         "Vermiculite",
         574,
         6943578.53
        ],
        [
         "WalkerGaines",
         "Cork",
         434,
         6901166.62
        ],
        [
         "SwansonFord",
         "Cellulose Fiber",
         557,
         6828638.41
        ],
        [
         "HillGallagher",
         "Expanded Polystyrene (EPS)",
         558,
         6789561.62
        ],
        [
         "Myers and Sons",
         "Vermiculite",
         510,
         6615231.36
        ],
        [
         "Smith PLC",
         "Expanded Polystyrene (EPS)",
         370,
         6427703.09
        ],
        [
         "HurstHuang",
         "Expanded Polystyrene (EPS)",
         438,
         6379433.01
        ],
        [
         "Gomez",
         "20",
         548,
         6366441.65
        ],
        [
         "Alvarez",
         "8",
         425,
         6329429.68
        ],
        [
         "KelleySmith",
         "Mineral Wool",
         458,
         6171234.37
        ],
        [
         "Barnes and Sons",
         "Polystyrene",
         545,
         6110017.9
        ],
        [
         "Kirk and Sons",
         "Perlite",
         419,
         6015792.47
        ],
        [
         "Delgado",
         "19",
         505,
         5987570.41
        ],
        [
         "SmithOwen",
         "Glass Wool",
         534,
         5852382.43
        ],
        [
         "Pearson Inc",
         "Fiberglass",
         489,
         5730124.96
        ],
        [
         "Stewart",
         "35",
         456,
         5687573.96
        ],
        [
         "Lawrence",
         "22",
         525,
         5685356.03
        ],
        [
         "NortonMendoza",
         "Glass Wool",
         442,
         5570067.98
        ],
        [
         "Watkins PLC",
         "Polyurethane",
         528,
         5457649.97
        ],
        [
         "Yang Group",
         "Cork",
         543,
         5233338.97
        ],
        [
         "Maxwell Inc",
         "Polystyrene",
         596,
         5206435.89
        ],
        [
         "Walker Group",
         "Polystyrene",
         415,
         5143058.84
        ],
        [
         "KaneJohnson",
         "Polyurethane",
         543,
         4867000.5
        ],
        [
         "Tanner",
         "32",
         360,
         4638322.38
        ],
        [
         "Rocha",
         "26",
         380,
         4499487.85
        ],
        [
         "WagnerButler",
         "Mineral Wool",
         492,
         4419483.47
        ],
        [
         "King PLC",
         "Polystyrene",
         329,
         2566431.27
        ]
       ],
       "datasetInfos": [],
       "dbfsResultPath": null,
       "isJsonSchema": true,
       "metadata": {
        "createTempViewForImplicitDf": true,
        "dataframeName": "_sqldf",
        "executionCount": 41
       },
       "overflow": false,
       "plotOptions": {
        "customPlotOptions": {},
        "displayType": "table",
        "pivotAggregation": null,
        "pivotColumns": null,
        "xColumns": null,
        "yColumns": null
       },
       "removedWidgets": [],
       "schema": [
        {
         "metadata": "{}",
         "name": "SupplierName",
         "type": "\"string\""
        },
        {
         "metadata": "{}",
         "name": "RawMaterialName",
         "type": "\"string\""
        },
        {
         "metadata": "{}",
         "name": "OrdersFulfilled",
         "type": "\"long\""
        },
        {
         "metadata": "{}",
         "name": "TotalRawMaterialCost",
         "type": "\"double\""
        }
       ],
       "type": "table"
      }
     },
     "output_type": "display_data"
    }
   ],
   "source": [
    "%sql\n",
    "SELECT \n",
    "    s.SupplierName,\n",
    "    s.RawMaterialName,\n",
    "    COUNT(fp.OrderID) AS OrdersFulfilled,\n",
    "    ROUND(SUM(fp.CostPerUnit * fp.Quantity),3) AS TotalRawMaterialCost\n",
    "FROM Production fp\n",
    "INNER JOIN Suppliers s ON fp.SupplierKey = s.SupplierKey\n",
    "GROUP BY s.SupplierName, s.RawMaterialName\n",
    "ORDER BY TotalRawMaterialCost DESC;\n"
   ]
  },
  {
   "cell_type": "markdown",
   "metadata": {
    "application/vnd.databricks.v1+cell": {
     "cellMetadata": {},
     "inputWidgets": {},
     "nuid": "9c02a84a-3565-430e-9271-4a8a50323a3b",
     "showTitle": false,
     "title": ""
    }
   },
   "source": [
    "##### 8. Total Units Sold and Sales by Product"
   ]
  },
  {
   "cell_type": "code",
   "execution_count": 0,
   "metadata": {
    "application/vnd.databricks.v1+cell": {
     "cellMetadata": {
      "byteLimit": 2048000,
      "implicitDf": true,
      "rowLimit": 10000
     },
     "inputWidgets": {},
     "nuid": "42ea0483-f0ae-4581-90a7-64a66a150769",
     "showTitle": false,
     "title": ""
    }
   },
   "outputs": [
    {
     "output_type": "display_data",
     "data": {
      "text/html": [
       "<style scoped>\n",
       "  .table-result-container {\n",
       "    max-height: 300px;\n",
       "    overflow: auto;\n",
       "  }\n",
       "  table, th, td {\n",
       "    border: 1px solid black;\n",
       "    border-collapse: collapse;\n",
       "  }\n",
       "  th, td {\n",
       "    padding: 5px;\n",
       "  }\n",
       "  th {\n",
       "    text-align: left;\n",
       "  }\n",
       "</style><div class='table-result-container'><table class='table-result'><thead style='background-color: white'><tr><th>ProductName</th><th>TotalUnitsSold</th><th>TotalSales</th></tr></thead><tbody><tr><td>Spray Foam Insulation Kit</td><td>2256</td><td>23947.36</td></tr><tr><td>Lightweight Concrete Aggregate</td><td>1899</td><td>19050.92</td></tr><tr><td>Welded Wire Mesh</td><td>1692</td><td>19026.8</td></tr><tr><td>Waterproof Cement Coating</td><td>1650</td><td>17566.33</td></tr><tr><td>Synthetic Slate Roofing</td><td>1561</td><td>16968.85</td></tr><tr><td>Architectural Clay Brick</td><td>1423</td><td>16423.56</td></tr><tr><td>Clay Roof Shingles</td><td>1328</td><td>16094.73</td></tr><tr><td>Rock Wool Insulation</td><td>1353</td><td>15894.39</td></tr><tr><td>Asphalt Shingles</td><td>1462</td><td>15639.52</td></tr><tr><td>Classic Red Brick</td><td>1271</td><td>15377.33</td></tr><tr><td>Galvanized Steel Sheet</td><td>1474</td><td>14634.84</td></tr><tr><td>Aluminum Roofing Panels</td><td>1312</td><td>14621.65</td></tr><tr><td>Reflective Foil Insulation</td><td>1246</td><td>14395.22</td></tr><tr><td>Cellulose Blown-In Insulation</td><td>1249</td><td>13424.93</td></tr><tr><td>Fiberglass Insulation Rolls</td><td>1073</td><td>12411.14</td></tr><tr><td>Solar Roof Panels</td><td>1135</td><td>12398.47</td></tr><tr><td>Metal Roof Tiles</td><td>947</td><td>11323.49</td></tr><tr><td>Stainless Steel Rods</td><td>964</td><td>11260.61</td></tr><tr><td>Designer Paving Stones</td><td>1088</td><td>11178.81</td></tr><tr><td>Insulated Concrete Block</td><td>1317</td><td>11164.28</td></tr><tr><td>High-Strength Concrete Mix</td><td>1030</td><td>10931.62</td></tr><tr><td>Copper Plumbing Pipes</td><td>947</td><td>10557.58</td></tr><tr><td>Reinforced Concrete Slab</td><td>1091</td><td>10024.95</td></tr><tr><td>Quick-Set Cement</td><td>933</td><td>9850.02</td></tr><tr><td>Eco-Friendly Cinder Block</td><td>1216</td><td>9226.7</td></tr></tbody></table></div>"
      ]
     },
     "metadata": {
      "application/vnd.databricks.v1+output": {
       "addedWidgets": {},
       "aggData": [],
       "aggError": "",
       "aggOverflow": false,
       "aggSchema": [],
       "aggSeriesLimitReached": false,
       "aggType": "",
       "arguments": {},
       "columnCustomDisplayInfos": {},
       "data": [
        [
         "Spray Foam Insulation Kit",
         2256,
         23947.36
        ],
        [
         "Lightweight Concrete Aggregate",
         1899,
         19050.92
        ],
        [
         "Welded Wire Mesh",
         1692,
         19026.8
        ],
        [
         "Waterproof Cement Coating",
         1650,
         17566.33
        ],
        [
         "Synthetic Slate Roofing",
         1561,
         16968.85
        ],
        [
         "Architectural Clay Brick",
         1423,
         16423.56
        ],
        [
         "Clay Roof Shingles",
         1328,
         16094.73
        ],
        [
         "Rock Wool Insulation",
         1353,
         15894.39
        ],
        [
         "Asphalt Shingles",
         1462,
         15639.52
        ],
        [
         "Classic Red Brick",
         1271,
         15377.33
        ],
        [
         "Galvanized Steel Sheet",
         1474,
         14634.84
        ],
        [
         "Aluminum Roofing Panels",
         1312,
         14621.65
        ],
        [
         "Reflective Foil Insulation",
         1246,
         14395.22
        ],
        [
         "Cellulose Blown-In Insulation",
         1249,
         13424.93
        ],
        [
         "Fiberglass Insulation Rolls",
         1073,
         12411.14
        ],
        [
         "Solar Roof Panels",
         1135,
         12398.47
        ],
        [
         "Metal Roof Tiles",
         947,
         11323.49
        ],
        [
         "Stainless Steel Rods",
         964,
         11260.61
        ],
        [
         "Designer Paving Stones",
         1088,
         11178.81
        ],
        [
         "Insulated Concrete Block",
         1317,
         11164.28
        ],
        [
         "High-Strength Concrete Mix",
         1030,
         10931.62
        ],
        [
         "Copper Plumbing Pipes",
         947,
         10557.58
        ],
        [
         "Reinforced Concrete Slab",
         1091,
         10024.95
        ],
        [
         "Quick-Set Cement",
         933,
         9850.02
        ],
        [
         "Eco-Friendly Cinder Block",
         1216,
         9226.7
        ]
       ],
       "datasetInfos": [],
       "dbfsResultPath": null,
       "isJsonSchema": true,
       "metadata": {
        "createTempViewForImplicitDf": true,
        "dataframeName": "_sqldf",
        "executionCount": 42
       },
       "overflow": false,
       "plotOptions": {
        "customPlotOptions": {},
        "displayType": "table",
        "pivotAggregation": null,
        "pivotColumns": null,
        "xColumns": null,
        "yColumns": null
       },
       "removedWidgets": [],
       "schema": [
        {
         "metadata": "{}",
         "name": "ProductName",
         "type": "\"string\""
        },
        {
         "metadata": "{}",
         "name": "TotalUnitsSold",
         "type": "\"long\""
        },
        {
         "metadata": "{}",
         "name": "TotalSales",
         "type": "\"double\""
        }
       ],
       "type": "table"
      }
     },
     "output_type": "display_data"
    }
   ],
   "source": [
    "%sql\n",
    "SELECT \n",
    "    p.ProductName,\n",
    "    SUM(f.Units) AS TotalUnitsSold,\n",
    "    ROUND(SUM(f.Profit),3) AS TotalSales\n",
    "FROM Sales f\n",
    "INNER JOIN Products p ON f.ProductKey = p.ProductKey\n",
    "GROUP BY p.ProductName\n",
    "ORDER BY TotalSales DESC;\n"
   ]
  },
  {
   "cell_type": "markdown",
   "metadata": {
    "application/vnd.databricks.v1+cell": {
     "cellMetadata": {},
     "inputWidgets": {},
     "nuid": "d0d9d9a0-ad79-463d-b3c0-8df87cf5724b",
     "showTitle": false,
     "title": ""
    }
   },
   "source": [
    "#### 9. Total Orders and Spending by Customer"
   ]
  },
  {
   "cell_type": "code",
   "execution_count": 0,
   "metadata": {
    "application/vnd.databricks.v1+cell": {
     "cellMetadata": {
      "byteLimit": 2048000,
      "implicitDf": true,
      "rowLimit": 10000
     },
     "inputWidgets": {},
     "nuid": "f0e7de7e-ffcf-459e-ba66-da9b124f1c91",
     "showTitle": false,
     "title": ""
    }
   },
   "outputs": [
    {
     "output_type": "display_data",
     "data": {
      "text/html": [
       "<style scoped>\n",
       "  .table-result-container {\n",
       "    max-height: 300px;\n",
       "    overflow: auto;\n",
       "  }\n",
       "  table, th, td {\n",
       "    border: 1px solid black;\n",
       "    border-collapse: collapse;\n",
       "  }\n",
       "  th, td {\n",
       "    padding: 5px;\n",
       "  }\n",
       "  th {\n",
       "    text-align: left;\n",
       "  }\n",
       "</style><div class='table-result-container'><table class='table-result'><thead style='background-color: white'><tr><th>CustomerName</th><th>TotalOrders</th><th>TotalSpent</th></tr></thead><tbody><tr><td>Jennifer Dickerson</td><td>92</td><td>4936.72</td></tr><tr><td>Shawn Anderson</td><td>89</td><td>5265.12</td></tr><tr><td>Craig Dickson</td><td>88</td><td>4450.65</td></tr><tr><td>Todd Oliver</td><td>86</td><td>5488.64</td></tr><tr><td>Mary Dunn</td><td>84</td><td>4918.85</td></tr><tr><td>Robert Chen</td><td>82</td><td>4609.71</td></tr><tr><td>Steven Miller</td><td>81</td><td>5008.54</td></tr><tr><td>Cassandra Brown</td><td>79</td><td>5433.88</td></tr><tr><td>Anna Jackson</td><td>79</td><td>4972.55</td></tr><tr><td>Shannon Gonzalez</td><td>78</td><td>4380.36</td></tr><tr><td>Dylan Smith</td><td>78</td><td>4203.8</td></tr><tr><td>Eric Wilson</td><td>76</td><td>4684.66</td></tr><tr><td>Travis Howard</td><td>76</td><td>3796.29</td></tr><tr><td>Susan Munoz</td><td>75</td><td>4805.17</td></tr><tr><td>Edward Bennett</td><td>74</td><td>4624.49</td></tr><tr><td>Daniel Arnold</td><td>74</td><td>4723.12</td></tr><tr><td>Jesse Jones</td><td>73</td><td>4462.16</td></tr><tr><td>Jamie Gonzalez</td><td>72</td><td>4595.38</td></tr><tr><td>Stephanie Davis</td><td>72</td><td>3895.1</td></tr><tr><td>Charles Kelly</td><td>72</td><td>3826.13</td></tr><tr><td>Daniel Paul</td><td>71</td><td>5045.69</td></tr><tr><td>Jessica Thompson</td><td>71</td><td>4187.07</td></tr><tr><td>Deborah Owens</td><td>71</td><td>4273.41</td></tr><tr><td>Richard Poole</td><td>70</td><td>3439.61</td></tr><tr><td>Alexander Ross</td><td>70</td><td>4031.47</td></tr><tr><td>Ashley Ware</td><td>69</td><td>4720.04</td></tr><tr><td>Michelle Hicks</td><td>68</td><td>4058.22</td></tr><tr><td>Alison Moore</td><td>67</td><td>3850.72</td></tr><tr><td>Jennifer Barnes</td><td>67</td><td>4340.32</td></tr><tr><td>Stephanie Velasquez</td><td>66</td><td>4418.08</td></tr><tr><td>Paul Bishop</td><td>66</td><td>3573.21</td></tr><tr><td>Tina Campbell</td><td>66</td><td>4095.78</td></tr><tr><td>Laurie Ross</td><td>65</td><td>4595.65</td></tr><tr><td>William Cruz</td><td>64</td><td>3962.88</td></tr><tr><td>Bradley Wilson</td><td>64</td><td>4293.8</td></tr><tr><td>Melinda Douglas</td><td>63</td><td>3515.53</td></tr><tr><td>Toni Phelps</td><td>63</td><td>4000.64</td></tr><tr><td>Jacob Taylor</td><td>62</td><td>3713.86</td></tr><tr><td>Lisa Vasquez</td><td>62</td><td>3650.96</td></tr><tr><td>Danielle Ingram</td><td>62</td><td>3737.17</td></tr><tr><td>Robert Campbell</td><td>62</td><td>3431.61</td></tr><tr><td>Bryan Torres</td><td>62</td><td>3227.98</td></tr><tr><td>Charles Hoover</td><td>61</td><td>3383.48</td></tr><tr><td>Charles Brewer</td><td>61</td><td>3075.86</td></tr><tr><td>Paul Hanson</td><td>60</td><td>3455.45</td></tr><tr><td>Carrie Taylor</td><td>60</td><td>2932.67</td></tr><tr><td>John Esparza</td><td>59</td><td>3672.37</td></tr><tr><td>Daisy Keller</td><td>59</td><td>2673.02</td></tr><tr><td>Veronica Miller</td><td>59</td><td>3306.17</td></tr><tr><td>Christopher Carey</td><td>58</td><td>3164.98</td></tr><tr><td>Gina Johnson</td><td>58</td><td>3795.14</td></tr><tr><td>Eric Lewis</td><td>58</td><td>3576.24</td></tr><tr><td>Adam Jackson</td><td>58</td><td>3858.46</td></tr><tr><td>Jamie Scott</td><td>58</td><td>3471.5</td></tr><tr><td>Paige Williams</td><td>57</td><td>3713.14</td></tr><tr><td>Mike Holland</td><td>57</td><td>3597.87</td></tr><tr><td>Danny Kaiser</td><td>56</td><td>3060.55</td></tr><tr><td>Richard Jones</td><td>56</td><td>3268.73</td></tr><tr><td>Matthew Davis</td><td>56</td><td>3672.04</td></tr><tr><td>Christopher Riley</td><td>56</td><td>3080.21</td></tr><tr><td>Corey George</td><td>56</td><td>3589.85</td></tr><tr><td>Dana Dillon</td><td>55</td><td>3295.43</td></tr><tr><td>Jacqueline David</td><td>55</td><td>3299.49</td></tr><tr><td>Tara Carroll</td><td>55</td><td>3054.6</td></tr><tr><td>April Byrd</td><td>55</td><td>2959.92</td></tr><tr><td>Tamara Sanchez</td><td>54</td><td>3210.72</td></tr><tr><td>Cynthia Graham</td><td>54</td><td>2891.28</td></tr><tr><td>Donna Gill</td><td>54</td><td>3022.33</td></tr><tr><td>Tammy Byrd</td><td>53</td><td>2956.16</td></tr><tr><td>Theresa Marshall</td><td>52</td><td>3225.94</td></tr><tr><td>Lisa Stewart</td><td>52</td><td>2665.26</td></tr><tr><td>Gary Benson</td><td>52</td><td>2721.91</td></tr><tr><td>Corey Elliott</td><td>52</td><td>3256.69</td></tr><tr><td>Brandon Macdonald</td><td>51</td><td>2822.09</td></tr><tr><td>Jessica Taylor</td><td>51</td><td>3246.48</td></tr><tr><td>Traci Jenkins</td><td>51</td><td>2761.73</td></tr><tr><td>Matthew Hill</td><td>49</td><td>2511.27</td></tr><tr><td>Martha Rivera</td><td>49</td><td>2960.48</td></tr><tr><td>Gina Thomas</td><td>48</td><td>2975.64</td></tr><tr><td>Harold Hodge</td><td>48</td><td>3455.53</td></tr><tr><td>Douglas Thomas</td><td>48</td><td>3144.48</td></tr><tr><td>Daniel Steele</td><td>48</td><td>2711.27</td></tr><tr><td>Sylvia Torres</td><td>47</td><td>3338.1</td></tr><tr><td>Patricia Solomon</td><td>47</td><td>2615.07</td></tr><tr><td>Joseph Burch</td><td>47</td><td>2545.54</td></tr><tr><td>Patrick Dixon</td><td>46</td><td>2284.44</td></tr><tr><td>John Anderson</td><td>46</td><td>2580.84</td></tr><tr><td>Zachary Fletcher</td><td>45</td><td>2618.62</td></tr><tr><td>Joseph Harris</td><td>45</td><td>2964.69</td></tr><tr><td>Angela Jenkins</td><td>44</td><td>2559.78</td></tr><tr><td>Ruth Leonard</td><td>44</td><td>2494.15</td></tr><tr><td>Bradley Torres</td><td>43</td><td>3186.76</td></tr><tr><td>John Cantu</td><td>41</td><td>2558.72</td></tr><tr><td>Ryan King</td><td>38</td><td>2783.19</td></tr><tr><td>Michael Holmes</td><td>38</td><td>2289.8</td></tr><tr><td>Craig Williams</td><td>36</td><td>1965.11</td></tr><tr><td>Christina Pena</td><td>35</td><td>2239.02</td></tr><tr><td>Joseph Sanchez</td><td>33</td><td>1870.38</td></tr><tr><td>Danielle Lowe</td><td>31</td><td>1929.11</td></tr><tr><td>Elizabeth Rios</td><td>29</td><td>1829.33</td></tr></tbody></table></div>"
      ]
     },
     "metadata": {
      "application/vnd.databricks.v1+output": {
       "addedWidgets": {},
       "aggData": [],
       "aggError": "",
       "aggOverflow": false,
       "aggSchema": [],
       "aggSeriesLimitReached": false,
       "aggType": "",
       "arguments": {},
       "columnCustomDisplayInfos": {},
       "data": [
        [
         "Jennifer Dickerson",
         92,
         4936.72
        ],
        [
         "Shawn Anderson",
         89,
         5265.12
        ],
        [
         "Craig Dickson",
         88,
         4450.65
        ],
        [
         "Todd Oliver",
         86,
         5488.64
        ],
        [
         "Mary Dunn",
         84,
         4918.85
        ],
        [
         "Robert Chen",
         82,
         4609.71
        ],
        [
         "Steven Miller",
         81,
         5008.54
        ],
        [
         "Cassandra Brown",
         79,
         5433.88
        ],
        [
         "Anna Jackson",
         79,
         4972.55
        ],
        [
         "Shannon Gonzalez",
         78,
         4380.36
        ],
        [
         "Dylan Smith",
         78,
         4203.8
        ],
        [
         "Eric Wilson",
         76,
         4684.66
        ],
        [
         "Travis Howard",
         76,
         3796.29
        ],
        [
         "Susan Munoz",
         75,
         4805.17
        ],
        [
         "Edward Bennett",
         74,
         4624.49
        ],
        [
         "Daniel Arnold",
         74,
         4723.12
        ],
        [
         "Jesse Jones",
         73,
         4462.16
        ],
        [
         "Jamie Gonzalez",
         72,
         4595.38
        ],
        [
         "Stephanie Davis",
         72,
         3895.1
        ],
        [
         "Charles Kelly",
         72,
         3826.13
        ],
        [
         "Daniel Paul",
         71,
         5045.69
        ],
        [
         "Jessica Thompson",
         71,
         4187.07
        ],
        [
         "Deborah Owens",
         71,
         4273.41
        ],
        [
         "Richard Poole",
         70,
         3439.61
        ],
        [
         "Alexander Ross",
         70,
         4031.47
        ],
        [
         "Ashley Ware",
         69,
         4720.04
        ],
        [
         "Michelle Hicks",
         68,
         4058.22
        ],
        [
         "Alison Moore",
         67,
         3850.72
        ],
        [
         "Jennifer Barnes",
         67,
         4340.32
        ],
        [
         "Stephanie Velasquez",
         66,
         4418.08
        ],
        [
         "Paul Bishop",
         66,
         3573.21
        ],
        [
         "Tina Campbell",
         66,
         4095.78
        ],
        [
         "Laurie Ross",
         65,
         4595.65
        ],
        [
         "William Cruz",
         64,
         3962.88
        ],
        [
         "Bradley Wilson",
         64,
         4293.8
        ],
        [
         "Melinda Douglas",
         63,
         3515.53
        ],
        [
         "Toni Phelps",
         63,
         4000.64
        ],
        [
         "Jacob Taylor",
         62,
         3713.86
        ],
        [
         "Lisa Vasquez",
         62,
         3650.96
        ],
        [
         "Danielle Ingram",
         62,
         3737.17
        ],
        [
         "Robert Campbell",
         62,
         3431.61
        ],
        [
         "Bryan Torres",
         62,
         3227.98
        ],
        [
         "Charles Hoover",
         61,
         3383.48
        ],
        [
         "Charles Brewer",
         61,
         3075.86
        ],
        [
         "Paul Hanson",
         60,
         3455.45
        ],
        [
         "Carrie Taylor",
         60,
         2932.67
        ],
        [
         "John Esparza",
         59,
         3672.37
        ],
        [
         "Daisy Keller",
         59,
         2673.02
        ],
        [
         "Veronica Miller",
         59,
         3306.17
        ],
        [
         "Christopher Carey",
         58,
         3164.98
        ],
        [
         "Gina Johnson",
         58,
         3795.14
        ],
        [
         "Eric Lewis",
         58,
         3576.24
        ],
        [
         "Adam Jackson",
         58,
         3858.46
        ],
        [
         "Jamie Scott",
         58,
         3471.5
        ],
        [
         "Paige Williams",
         57,
         3713.14
        ],
        [
         "Mike Holland",
         57,
         3597.87
        ],
        [
         "Danny Kaiser",
         56,
         3060.55
        ],
        [
         "Richard Jones",
         56,
         3268.73
        ],
        [
         "Matthew Davis",
         56,
         3672.04
        ],
        [
         "Christopher Riley",
         56,
         3080.21
        ],
        [
         "Corey George",
         56,
         3589.85
        ],
        [
         "Dana Dillon",
         55,
         3295.43
        ],
        [
         "Jacqueline David",
         55,
         3299.49
        ],
        [
         "Tara Carroll",
         55,
         3054.6
        ],
        [
         "April Byrd",
         55,
         2959.92
        ],
        [
         "Tamara Sanchez",
         54,
         3210.72
        ],
        [
         "Cynthia Graham",
         54,
         2891.28
        ],
        [
         "Donna Gill",
         54,
         3022.33
        ],
        [
         "Tammy Byrd",
         53,
         2956.16
        ],
        [
         "Theresa Marshall",
         52,
         3225.94
        ],
        [
         "Lisa Stewart",
         52,
         2665.26
        ],
        [
         "Gary Benson",
         52,
         2721.91
        ],
        [
         "Corey Elliott",
         52,
         3256.69
        ],
        [
         "Brandon Macdonald",
         51,
         2822.09
        ],
        [
         "Jessica Taylor",
         51,
         3246.48
        ],
        [
         "Traci Jenkins",
         51,
         2761.73
        ],
        [
         "Matthew Hill",
         49,
         2511.27
        ],
        [
         "Martha Rivera",
         49,
         2960.48
        ],
        [
         "Gina Thomas",
         48,
         2975.64
        ],
        [
         "Harold Hodge",
         48,
         3455.53
        ],
        [
         "Douglas Thomas",
         48,
         3144.48
        ],
        [
         "Daniel Steele",
         48,
         2711.27
        ],
        [
         "Sylvia Torres",
         47,
         3338.1
        ],
        [
         "Patricia Solomon",
         47,
         2615.07
        ],
        [
         "Joseph Burch",
         47,
         2545.54
        ],
        [
         "Patrick Dixon",
         46,
         2284.44
        ],
        [
         "John Anderson",
         46,
         2580.84
        ],
        [
         "Zachary Fletcher",
         45,
         2618.62
        ],
        [
         "Joseph Harris",
         45,
         2964.69
        ],
        [
         "Angela Jenkins",
         44,
         2559.78
        ],
        [
         "Ruth Leonard",
         44,
         2494.15
        ],
        [
         "Bradley Torres",
         43,
         3186.76
        ],
        [
         "John Cantu",
         41,
         2558.72
        ],
        [
         "Ryan King",
         38,
         2783.19
        ],
        [
         "Michael Holmes",
         38,
         2289.8
        ],
        [
         "Craig Williams",
         36,
         1965.11
        ],
        [
         "Christina Pena",
         35,
         2239.02
        ],
        [
         "Joseph Sanchez",
         33,
         1870.38
        ],
        [
         "Danielle Lowe",
         31,
         1929.11
        ],
        [
         "Elizabeth Rios",
         29,
         1829.33
        ]
       ],
       "datasetInfos": [],
       "dbfsResultPath": null,
       "isJsonSchema": true,
       "metadata": {
        "createTempViewForImplicitDf": true,
        "dataframeName": "_sqldf",
        "executionCount": 43
       },
       "overflow": false,
       "plotOptions": {
        "customPlotOptions": {},
        "displayType": "table",
        "pivotAggregation": null,
        "pivotColumns": null,
        "xColumns": null,
        "yColumns": null
       },
       "removedWidgets": [],
       "schema": [
        {
         "metadata": "{}",
         "name": "CustomerName",
         "type": "\"string\""
        },
        {
         "metadata": "{}",
         "name": "TotalOrders",
         "type": "\"long\""
        },
        {
         "metadata": "{}",
         "name": "TotalSpent",
         "type": "\"double\""
        }
       ],
       "type": "table"
      }
     },
     "output_type": "display_data"
    }
   ],
   "source": [
    "%sql\n",
    "SELECT \n",
    "    c.ContactName AS CustomerName,\n",
    "    COUNT(f.OrderID) AS TotalOrders,\n",
    "    ROUND(SUM(f.Profit),3) AS TotalSpent\n",
    "FROM Sales f\n",
    "INNER JOIN Customers c ON f.CustomerKey = c.CustomerKey\n",
    "GROUP BY c.ContactName\n",
    "ORDER BY TotalOrders DESC;\n"
   ]
  },
  {
   "cell_type": "markdown",
   "metadata": {
    "application/vnd.databricks.v1+cell": {
     "cellMetadata": {},
     "inputWidgets": {},
     "nuid": "7a53bab5-2b14-4100-93bb-6e2905d78831",
     "showTitle": false,
     "title": ""
    }
   },
   "source": [
    "#### 10. Number of Deliveries by Logistics Partner and Delivery Status"
   ]
  },
  {
   "cell_type": "code",
   "execution_count": 0,
   "metadata": {
    "application/vnd.databricks.v1+cell": {
     "cellMetadata": {
      "byteLimit": 2048000,
      "implicitDf": true,
      "rowLimit": 10000
     },
     "inputWidgets": {},
     "nuid": "9fc2e755-c092-4315-ba6e-bf300b61863d",
     "showTitle": false,
     "title": ""
    }
   },
   "outputs": [
    {
     "output_type": "display_data",
     "data": {
      "text/html": [
       "<style scoped>\n",
       "  .table-result-container {\n",
       "    max-height: 300px;\n",
       "    overflow: auto;\n",
       "  }\n",
       "  table, th, td {\n",
       "    border: 1px solid black;\n",
       "    border-collapse: collapse;\n",
       "  }\n",
       "  th, td {\n",
       "    padding: 5px;\n",
       "  }\n",
       "  th {\n",
       "    text-align: left;\n",
       "  }\n",
       "</style><div class='table-result-container'><table class='table-result'><thead style='background-color: white'><tr><th>Logistics_Partner_Name</th><th>DeliveryStatus</th><th>NumberOfDeliveries</th></tr></thead><tbody><tr><td> </td><td>null</td><td>0</td></tr><tr><td>Anna Obrien</td><td>Complete</td><td>39</td></tr><tr><td>Anna Obrien</td><td>In Delivery</td><td>16</td></tr><tr><td>Anna Obrien</td><td>In Process</td><td>16</td></tr><tr><td>Beth Anderson</td><td>Complete</td><td>33</td></tr><tr><td>Beth Anderson</td><td>In Delivery</td><td>13</td></tr><tr><td>Beth Anderson</td><td>In Process</td><td>19</td></tr><tr><td>Cheyenne Barrett</td><td>Complete</td><td>30</td></tr><tr><td>Cheyenne Barrett</td><td>In Delivery</td><td>17</td></tr><tr><td>Cheyenne Barrett</td><td>In Process</td><td>18</td></tr><tr><td>Derrick Perez</td><td>Complete</td><td>24</td></tr><tr><td>Derrick Perez</td><td>In Delivery</td><td>16</td></tr><tr><td>Derrick Perez</td><td>In Process</td><td>18</td></tr><tr><td>Eric Hall</td><td>Complete</td><td>32</td></tr><tr><td>Eric Hall</td><td>In Delivery</td><td>10</td></tr><tr><td>Eric Hall</td><td>In Process</td><td>25</td></tr><tr><td>Jeffrey Fox</td><td>Complete</td><td>24</td></tr><tr><td>Jeffrey Fox</td><td>In Delivery</td><td>22</td></tr><tr><td>Jeffrey Fox</td><td>In Process</td><td>16</td></tr><tr><td>Kathryn Dennis</td><td>Complete</td><td>21</td></tr><tr><td>Kathryn Dennis</td><td>In Delivery</td><td>19</td></tr><tr><td>Kathryn Dennis</td><td>In Process</td><td>11</td></tr><tr><td>Keith Figueroa</td><td>Complete</td><td>34</td></tr><tr><td>Keith Figueroa</td><td>In Delivery</td><td>21</td></tr><tr><td>Keith Figueroa</td><td>In Process</td><td>14</td></tr><tr><td>Kimberly Alvarez</td><td>Complete</td><td>37</td></tr><tr><td>Kimberly Alvarez</td><td>In Delivery</td><td>17</td></tr><tr><td>Kimberly Alvarez</td><td>In Process</td><td>12</td></tr><tr><td>Lance Brown</td><td>Complete</td><td>31</td></tr><tr><td>Lance Brown</td><td>In Delivery</td><td>16</td></tr><tr><td>Lance Brown</td><td>In Process</td><td>10</td></tr><tr><td>Laura Edwards</td><td>Complete</td><td>41</td></tr><tr><td>Laura Edwards</td><td>In Delivery</td><td>21</td></tr><tr><td>Laura Edwards</td><td>In Process</td><td>11</td></tr><tr><td>Matthew Hernandez</td><td>Complete</td><td>35</td></tr><tr><td>Matthew Hernandez</td><td>In Delivery</td><td>20</td></tr><tr><td>Matthew Hernandez</td><td>In Process</td><td>17</td></tr><tr><td>Melissa Thompson</td><td>Complete</td><td>39</td></tr><tr><td>Melissa Thompson</td><td>In Delivery</td><td>13</td></tr><tr><td>Melissa Thompson</td><td>In Process</td><td>9</td></tr><tr><td>Mitchell Kaufman</td><td>Complete</td><td>55</td></tr><tr><td>Mitchell Kaufman</td><td>In Delivery</td><td>20</td></tr><tr><td>Mitchell Kaufman</td><td>In Process</td><td>19</td></tr><tr><td>Tina Alvarez</td><td>Complete</td><td>35</td></tr><tr><td>Tina Alvarez</td><td>In Delivery</td><td>16</td></tr><tr><td>Tina Alvarez</td><td>In Process</td><td>18</td></tr></tbody></table></div>"
      ]
     },
     "metadata": {
      "application/vnd.databricks.v1+output": {
       "addedWidgets": {},
       "aggData": [],
       "aggError": "",
       "aggOverflow": false,
       "aggSchema": [],
       "aggSeriesLimitReached": false,
       "aggType": "",
       "arguments": {},
       "columnCustomDisplayInfos": {},
       "data": [
        [
         " ",
         null,
         0
        ],
        [
         "Anna Obrien",
         "Complete",
         39
        ],
        [
         "Anna Obrien",
         "In Delivery",
         16
        ],
        [
         "Anna Obrien",
         "In Process",
         16
        ],
        [
         "Beth Anderson",
         "Complete",
         33
        ],
        [
         "Beth Anderson",
         "In Delivery",
         13
        ],
        [
         "Beth Anderson",
         "In Process",
         19
        ],
        [
         "Cheyenne Barrett",
         "Complete",
         30
        ],
        [
         "Cheyenne Barrett",
         "In Delivery",
         17
        ],
        [
         "Cheyenne Barrett",
         "In Process",
         18
        ],
        [
         "Derrick Perez",
         "Complete",
         24
        ],
        [
         "Derrick Perez",
         "In Delivery",
         16
        ],
        [
         "Derrick Perez",
         "In Process",
         18
        ],
        [
         "Eric Hall",
         "Complete",
         32
        ],
        [
         "Eric Hall",
         "In Delivery",
         10
        ],
        [
         "Eric Hall",
         "In Process",
         25
        ],
        [
         "Jeffrey Fox",
         "Complete",
         24
        ],
        [
         "Jeffrey Fox",
         "In Delivery",
         22
        ],
        [
         "Jeffrey Fox",
         "In Process",
         16
        ],
        [
         "Kathryn Dennis",
         "Complete",
         21
        ],
        [
         "Kathryn Dennis",
         "In Delivery",
         19
        ],
        [
         "Kathryn Dennis",
         "In Process",
         11
        ],
        [
         "Keith Figueroa",
         "Complete",
         34
        ],
        [
         "Keith Figueroa",
         "In Delivery",
         21
        ],
        [
         "Keith Figueroa",
         "In Process",
         14
        ],
        [
         "Kimberly Alvarez",
         "Complete",
         37
        ],
        [
         "Kimberly Alvarez",
         "In Delivery",
         17
        ],
        [
         "Kimberly Alvarez",
         "In Process",
         12
        ],
        [
         "Lance Brown",
         "Complete",
         31
        ],
        [
         "Lance Brown",
         "In Delivery",
         16
        ],
        [
         "Lance Brown",
         "In Process",
         10
        ],
        [
         "Laura Edwards",
         "Complete",
         41
        ],
        [
         "Laura Edwards",
         "In Delivery",
         21
        ],
        [
         "Laura Edwards",
         "In Process",
         11
        ],
        [
         "Matthew Hernandez",
         "Complete",
         35
        ],
        [
         "Matthew Hernandez",
         "In Delivery",
         20
        ],
        [
         "Matthew Hernandez",
         "In Process",
         17
        ],
        [
         "Melissa Thompson",
         "Complete",
         39
        ],
        [
         "Melissa Thompson",
         "In Delivery",
         13
        ],
        [
         "Melissa Thompson",
         "In Process",
         9
        ],
        [
         "Mitchell Kaufman",
         "Complete",
         55
        ],
        [
         "Mitchell Kaufman",
         "In Delivery",
         20
        ],
        [
         "Mitchell Kaufman",
         "In Process",
         19
        ],
        [
         "Tina Alvarez",
         "Complete",
         35
        ],
        [
         "Tina Alvarez",
         "In Delivery",
         16
        ],
        [
         "Tina Alvarez",
         "In Process",
         18
        ]
       ],
       "datasetInfos": [],
       "dbfsResultPath": null,
       "isJsonSchema": true,
       "metadata": {
        "createTempViewForImplicitDf": true,
        "dataframeName": "_sqldf",
        "executionCount": 44
       },
       "overflow": false,
       "plotOptions": {
        "customPlotOptions": {},
        "displayType": "table",
        "pivotAggregation": null,
        "pivotColumns": null,
        "xColumns": null,
        "yColumns": null
       },
       "removedWidgets": [],
       "schema": [
        {
         "metadata": "{}",
         "name": "Logistics_Partner_Name",
         "type": "\"string\""
        },
        {
         "metadata": "{}",
         "name": "DeliveryStatus",
         "type": "\"string\""
        },
        {
         "metadata": "{}",
         "name": "NumberOfDeliveries",
         "type": "\"long\""
        }
       ],
       "type": "table"
      }
     },
     "output_type": "display_data"
    }
   ],
   "source": [
    "%sql\n",
    "SELECT \n",
    "    d.Logistics_Partner_Name,\n",
    "    d.DeliveryStatus,\n",
    "    COUNT(d.DeliveryID) AS NumberOfDeliveries\n",
    "FROM Delivery d\n",
    "GROUP BY d.Logistics_Partner_Name, d.DeliveryStatus\n",
    "ORDER BY d.Logistics_Partner_Name, d.DeliveryStatus;\n"
   ]
  },
  {
   "cell_type": "markdown",
   "metadata": {
    "application/vnd.databricks.v1+cell": {
     "cellMetadata": {},
     "inputWidgets": {},
     "nuid": "b22d95a4-c122-44d5-88bb-64965eaffe47",
     "showTitle": false,
     "title": ""
    }
   },
   "source": [
    "#### 11. Total Units Sold, Profit, and Average Profit Margin by Product"
   ]
  },
  {
   "cell_type": "code",
   "execution_count": 0,
   "metadata": {
    "application/vnd.databricks.v1+cell": {
     "cellMetadata": {
      "byteLimit": 2048000,
      "implicitDf": true,
      "rowLimit": 10000
     },
     "inputWidgets": {},
     "nuid": "77351447-6f2f-42e3-aef3-457da1da96e4",
     "showTitle": false,
     "title": ""
    }
   },
   "outputs": [
    {
     "output_type": "display_data",
     "data": {
      "text/html": [
       "<style scoped>\n",
       "  .table-result-container {\n",
       "    max-height: 300px;\n",
       "    overflow: auto;\n",
       "  }\n",
       "  table, th, td {\n",
       "    border: 1px solid black;\n",
       "    border-collapse: collapse;\n",
       "  }\n",
       "  th, td {\n",
       "    padding: 5px;\n",
       "  }\n",
       "  th {\n",
       "    text-align: left;\n",
       "  }\n",
       "</style><div class='table-result-container'><table class='table-result'><thead style='background-color: white'><tr><th>ProductName</th><th>TotalUnitsSold</th><th>TotalProfit</th><th>AvgProfitMargin</th></tr></thead><tbody><tr><td>Spray Foam Insulation Kit</td><td>2256</td><td>23947.36</td><td>10.813</td></tr><tr><td>Lightweight Concrete Aggregate</td><td>1899</td><td>19050.92</td><td>9.882</td></tr><tr><td>Welded Wire Mesh</td><td>1692</td><td>19026.8</td><td>11.154</td></tr><tr><td>Waterproof Cement Coating</td><td>1650</td><td>17566.33</td><td>10.722</td></tr><tr><td>Synthetic Slate Roofing</td><td>1561</td><td>16968.85</td><td>10.845</td></tr><tr><td>Architectural Clay Brick</td><td>1423</td><td>16423.56</td><td>11.527</td></tr><tr><td>Clay Roof Shingles</td><td>1328</td><td>16094.73</td><td>12.15</td></tr><tr><td>Rock Wool Insulation</td><td>1353</td><td>15894.39</td><td>11.859</td></tr><tr><td>Asphalt Shingles</td><td>1462</td><td>15639.52</td><td>10.545</td></tr><tr><td>Classic Red Brick</td><td>1271</td><td>15377.33</td><td>11.85</td></tr><tr><td>Galvanized Steel Sheet</td><td>1474</td><td>14634.84</td><td>10.001</td></tr><tr><td>Aluminum Roofing Panels</td><td>1312</td><td>14621.65</td><td>11.274</td></tr><tr><td>Reflective Foil Insulation</td><td>1246</td><td>14395.22</td><td>11.218</td></tr><tr><td>Cellulose Blown-In Insulation</td><td>1249</td><td>13424.93</td><td>10.676</td></tr><tr><td>Fiberglass Insulation Rolls</td><td>1073</td><td>12411.14</td><td>11.636</td></tr><tr><td>Solar Roof Panels</td><td>1135</td><td>12398.47</td><td>10.574</td></tr><tr><td>Metal Roof Tiles</td><td>947</td><td>11323.49</td><td>12.207</td></tr><tr><td>Stainless Steel Rods</td><td>964</td><td>11260.61</td><td>11.701</td></tr><tr><td>Designer Paving Stones</td><td>1088</td><td>11178.81</td><td>10.205</td></tr><tr><td>Insulated Concrete Block</td><td>1317</td><td>11164.28</td><td>8.563</td></tr><tr><td>High-Strength Concrete Mix</td><td>1030</td><td>10931.62</td><td>10.778</td></tr><tr><td>Copper Plumbing Pipes</td><td>947</td><td>10557.58</td><td>10.615</td></tr><tr><td>Reinforced Concrete Slab</td><td>1091</td><td>10024.95</td><td>9.316</td></tr><tr><td>Quick-Set Cement</td><td>933</td><td>9850.02</td><td>10.394</td></tr><tr><td>Eco-Friendly Cinder Block</td><td>1216</td><td>9226.7</td><td>7.519</td></tr></tbody></table></div>"
      ]
     },
     "metadata": {
      "application/vnd.databricks.v1+output": {
       "addedWidgets": {},
       "aggData": [],
       "aggError": "",
       "aggOverflow": false,
       "aggSchema": [],
       "aggSeriesLimitReached": false,
       "aggType": "",
       "arguments": {},
       "columnCustomDisplayInfos": {},
       "data": [
        [
         "Spray Foam Insulation Kit",
         2256,
         23947.36,
         10.813
        ],
        [
         "Lightweight Concrete Aggregate",
         1899,
         19050.92,
         9.882
        ],
        [
         "Welded Wire Mesh",
         1692,
         19026.8,
         11.154
        ],
        [
         "Waterproof Cement Coating",
         1650,
         17566.33,
         10.722
        ],
        [
         "Synthetic Slate Roofing",
         1561,
         16968.85,
         10.845
        ],
        [
         "Architectural Clay Brick",
         1423,
         16423.56,
         11.527
        ],
        [
         "Clay Roof Shingles",
         1328,
         16094.73,
         12.15
        ],
        [
         "Rock Wool Insulation",
         1353,
         15894.39,
         11.859
        ],
        [
         "Asphalt Shingles",
         1462,
         15639.52,
         10.545
        ],
        [
         "Classic Red Brick",
         1271,
         15377.33,
         11.85
        ],
        [
         "Galvanized Steel Sheet",
         1474,
         14634.84,
         10.001
        ],
        [
         "Aluminum Roofing Panels",
         1312,
         14621.65,
         11.274
        ],
        [
         "Reflective Foil Insulation",
         1246,
         14395.22,
         11.218
        ],
        [
         "Cellulose Blown-In Insulation",
         1249,
         13424.93,
         10.676
        ],
        [
         "Fiberglass Insulation Rolls",
         1073,
         12411.14,
         11.636
        ],
        [
         "Solar Roof Panels",
         1135,
         12398.47,
         10.574
        ],
        [
         "Metal Roof Tiles",
         947,
         11323.49,
         12.207
        ],
        [
         "Stainless Steel Rods",
         964,
         11260.61,
         11.701
        ],
        [
         "Designer Paving Stones",
         1088,
         11178.81,
         10.205
        ],
        [
         "Insulated Concrete Block",
         1317,
         11164.28,
         8.563
        ],
        [
         "High-Strength Concrete Mix",
         1030,
         10931.62,
         10.778
        ],
        [
         "Copper Plumbing Pipes",
         947,
         10557.58,
         10.615
        ],
        [
         "Reinforced Concrete Slab",
         1091,
         10024.95,
         9.316
        ],
        [
         "Quick-Set Cement",
         933,
         9850.02,
         10.394
        ],
        [
         "Eco-Friendly Cinder Block",
         1216,
         9226.7,
         7.519
        ]
       ],
       "datasetInfos": [],
       "dbfsResultPath": null,
       "isJsonSchema": true,
       "metadata": {
        "createTempViewForImplicitDf": true,
        "dataframeName": "_sqldf",
        "executionCount": 45
       },
       "overflow": false,
       "plotOptions": {
        "customPlotOptions": {},
        "displayType": "table",
        "pivotAggregation": null,
        "pivotColumns": null,
        "xColumns": null,
        "yColumns": null
       },
       "removedWidgets": [],
       "schema": [
        {
         "metadata": "{}",
         "name": "ProductName",
         "type": "\"string\""
        },
        {
         "metadata": "{}",
         "name": "TotalUnitsSold",
         "type": "\"long\""
        },
        {
         "metadata": "{}",
         "name": "TotalProfit",
         "type": "\"double\""
        },
        {
         "metadata": "{}",
         "name": "AvgProfitMargin",
         "type": "\"double\""
        }
       ],
       "type": "table"
      }
     },
     "output_type": "display_data"
    }
   ],
   "source": [
    "%sql\n",
    "SELECT \n",
    "    p.ProductName,\n",
    "    SUM(f.Units) AS TotalUnitsSold,\n",
    "    ROUND(SUM(f.Profit),3) AS TotalProfit,\n",
    "    ROUND(AVG(p.ProductPricePerUnit - p.ProductCostPerUnit),3) AS AvgProfitMargin\n",
    "FROM Sales f\n",
    "INNER JOIN Products p ON f.ProductKey = p.ProductKey\n",
    "GROUP BY p.ProductName\n",
    "ORDER BY TotalProfit DESC;\n"
   ]
  }
 ],
 "metadata": {
  "application/vnd.databricks.v1+notebook": {
   "dashboards": [],
   "environmentMetadata": null,
   "language": "python",
   "notebookMetadata": {
    "mostRecentlyExecutedCommandWithImplicitDF": {
     "commandId": 4195730776815990,
     "dataframes": [
      "_sqldf"
     ]
    },
    "pythonIndentUnit": 2
   },
   "notebookName": "Import from Azure Blob Storage - 2024-06-18",
   "widgets": {}
  }
 },
 "nbformat": 4,
 "nbformat_minor": 0
}
